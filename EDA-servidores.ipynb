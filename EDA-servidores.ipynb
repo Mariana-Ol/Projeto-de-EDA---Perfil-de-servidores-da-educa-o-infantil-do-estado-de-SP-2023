{
 "cells": [
  {
   "cell_type": "markdown",
   "metadata": {},
   "source": [
    "# Análise de perfil de servidores da educação infantil no estado de São Paulo - 2023"
   ]
  },
  {
   "cell_type": "markdown",
   "metadata": {},
   "source": [
    "#### Uma ONG pretende compreender melhor o perfil dos profissionais que atuam na educação infantil na rede de ensino do estado de SP para promover ações, especialmente em relação à diversidade racial e de gênero em cargos de liderança. "
   ]
  },
  {
   "cell_type": "code",
   "execution_count": 1,
   "metadata": {},
   "outputs": [],
   "source": [
    "import pandas as pd\n",
    "import numpy as np\n",
    "import matplotlib.pyplot as plt\n",
    "import seaborn as sns\n",
    "import plotly.express as px"
   ]
  },
  {
   "cell_type": "code",
   "execution_count": 2,
   "metadata": {},
   "outputs": [],
   "source": [
    "df_servidores = pd.read_csv(\"perfilservidor23.csv\", sep = ';', encoding='utf-8')"
   ]
  },
  {
   "cell_type": "markdown",
   "metadata": {},
   "source": [
    "## Exploração inicial da base de dados e tratamento"
   ]
  },
  {
   "cell_type": "code",
   "execution_count": 3,
   "metadata": {},
   "outputs": [
    {
     "name": "stdout",
     "output_type": "stream",
     "text": [
      "A base de dados contém 86575 observações e 49 atributos.\n"
     ]
    },
    {
     "data": {
      "text/html": [
       "<div>\n",
       "<style scoped>\n",
       "    .dataframe tbody tr th:only-of-type {\n",
       "        vertical-align: middle;\n",
       "    }\n",
       "\n",
       "    .dataframe tbody tr th {\n",
       "        vertical-align: top;\n",
       "    }\n",
       "\n",
       "    .dataframe thead th {\n",
       "        text-align: right;\n",
       "    }\n",
       "</style>\n",
       "<table border=\"1\" class=\"dataframe\">\n",
       "  <thead>\n",
       "    <tr style=\"text-align: right;\">\n",
       "      <th></th>\n",
       "      <th>DATA_BASE_EOL</th>\n",
       "      <th>ANO_REFERENCIA</th>\n",
       "      <th>CD_CAR_SERV_SME</th>\n",
       "      <th>MES_NASC</th>\n",
       "      <th>ANO_NASC</th>\n",
       "      <th>IDADE</th>\n",
       "      <th>CD_SEXO</th>\n",
       "      <th>CD_MUNICIPIO_NASC</th>\n",
       "      <th>DC_MUNICIPIO_NASC</th>\n",
       "      <th>UF_MUNICIPIO_NASC</th>\n",
       "      <th>...</th>\n",
       "      <th>CD_UNIDADE_FUNCAO</th>\n",
       "      <th>CD_FUNCAO</th>\n",
       "      <th>DC_FUNCAO</th>\n",
       "      <th>DT_INICIO_FUNCAO</th>\n",
       "      <th>CD_UNIDADE_SOBREPOSTO</th>\n",
       "      <th>CD_SOBREPOSTO</th>\n",
       "      <th>DC_SOBREPOSTO</th>\n",
       "      <th>DT_INICIO_SOBREPOSTO</th>\n",
       "      <th>ACUMULO_AMBITO</th>\n",
       "      <th>ACUMULO_SITUACAO_SEGUNDO_VINCULO</th>\n",
       "    </tr>\n",
       "  </thead>\n",
       "  <tbody>\n",
       "    <tr>\n",
       "      <th>0</th>\n",
       "      <td>Dez de 2023</td>\n",
       "      <td>2023</td>\n",
       "      <td>3,00727E+14</td>\n",
       "      <td>10</td>\n",
       "      <td>1990</td>\n",
       "      <td>33</td>\n",
       "      <td>F</td>\n",
       "      <td>NaN</td>\n",
       "      <td>NaN</td>\n",
       "      <td>NaN</td>\n",
       "      <td>...</td>\n",
       "      <td>NaN</td>\n",
       "      <td>NaN</td>\n",
       "      <td>NaN</td>\n",
       "      <td>NaN</td>\n",
       "      <td>NaN</td>\n",
       "      <td>NaN</td>\n",
       "      <td>NaN</td>\n",
       "      <td>NaN</td>\n",
       "      <td>NaN</td>\n",
       "      <td>NaN</td>\n",
       "    </tr>\n",
       "    <tr>\n",
       "      <th>1</th>\n",
       "      <td>Dez de 2023</td>\n",
       "      <td>2023</td>\n",
       "      <td>3,71731E+14</td>\n",
       "      <td>1</td>\n",
       "      <td>1972</td>\n",
       "      <td>51</td>\n",
       "      <td>F</td>\n",
       "      <td>9,36274E+15</td>\n",
       "      <td>GUARULHOS</td>\n",
       "      <td>SP</td>\n",
       "      <td>...</td>\n",
       "      <td>NaN</td>\n",
       "      <td>NaN</td>\n",
       "      <td>NaN</td>\n",
       "      <td>NaN</td>\n",
       "      <td>NaN</td>\n",
       "      <td>NaN</td>\n",
       "      <td>NaN</td>\n",
       "      <td>NaN</td>\n",
       "      <td>NaN</td>\n",
       "      <td>NaN</td>\n",
       "    </tr>\n",
       "    <tr>\n",
       "      <th>2</th>\n",
       "      <td>Dez de 2023</td>\n",
       "      <td>2023</td>\n",
       "      <td>3,71731E+14</td>\n",
       "      <td>2</td>\n",
       "      <td>1975</td>\n",
       "      <td>48</td>\n",
       "      <td>F</td>\n",
       "      <td>9,35474E+15</td>\n",
       "      <td>SAO PAULO</td>\n",
       "      <td>SP</td>\n",
       "      <td>...</td>\n",
       "      <td>NaN</td>\n",
       "      <td>NaN</td>\n",
       "      <td>NaN</td>\n",
       "      <td>NaN</td>\n",
       "      <td>NaN</td>\n",
       "      <td>NaN</td>\n",
       "      <td>NaN</td>\n",
       "      <td>NaN</td>\n",
       "      <td>NaN</td>\n",
       "      <td>NaN</td>\n",
       "    </tr>\n",
       "    <tr>\n",
       "      <th>3</th>\n",
       "      <td>Dez de 2023</td>\n",
       "      <td>2023</td>\n",
       "      <td>3,71731E+14</td>\n",
       "      <td>5</td>\n",
       "      <td>1991</td>\n",
       "      <td>32</td>\n",
       "      <td>F</td>\n",
       "      <td>9,35474E+15</td>\n",
       "      <td>SAO PAULO</td>\n",
       "      <td>SP</td>\n",
       "      <td>...</td>\n",
       "      <td>NaN</td>\n",
       "      <td>NaN</td>\n",
       "      <td>NaN</td>\n",
       "      <td>NaN</td>\n",
       "      <td>NaN</td>\n",
       "      <td>NaN</td>\n",
       "      <td>NaN</td>\n",
       "      <td>NaN</td>\n",
       "      <td>NaN</td>\n",
       "      <td>Efetivo</td>\n",
       "    </tr>\n",
       "    <tr>\n",
       "      <th>4</th>\n",
       "      <td>Dez de 2023</td>\n",
       "      <td>2023</td>\n",
       "      <td>3,71731E+14</td>\n",
       "      <td>3</td>\n",
       "      <td>1984</td>\n",
       "      <td>39</td>\n",
       "      <td>F</td>\n",
       "      <td>NaN</td>\n",
       "      <td>NaN</td>\n",
       "      <td>NaN</td>\n",
       "      <td>...</td>\n",
       "      <td>NaN</td>\n",
       "      <td>NaN</td>\n",
       "      <td>NaN</td>\n",
       "      <td>NaN</td>\n",
       "      <td>NaN</td>\n",
       "      <td>NaN</td>\n",
       "      <td>NaN</td>\n",
       "      <td>NaN</td>\n",
       "      <td>NaN</td>\n",
       "      <td>NaN</td>\n",
       "    </tr>\n",
       "  </tbody>\n",
       "</table>\n",
       "<p>5 rows × 49 columns</p>\n",
       "</div>"
      ],
      "text/plain": [
       "  DATA_BASE_EOL  ANO_REFERENCIA CD_CAR_SERV_SME  MES_NASC  ANO_NASC  IDADE  \\\n",
       "0   Dez de 2023            2023     3,00727E+14        10      1990     33   \n",
       "1   Dez de 2023            2023     3,71731E+14         1      1972     51   \n",
       "2   Dez de 2023            2023     3,71731E+14         2      1975     48   \n",
       "3   Dez de 2023            2023     3,71731E+14         5      1991     32   \n",
       "4   Dez de 2023            2023     3,71731E+14         3      1984     39   \n",
       "\n",
       "  CD_SEXO CD_MUNICIPIO_NASC DC_MUNICIPIO_NASC UF_MUNICIPIO_NASC  ...  \\\n",
       "0       F               NaN               NaN               NaN  ...   \n",
       "1       F       9,36274E+15         GUARULHOS                SP  ...   \n",
       "2       F       9,35474E+15         SAO PAULO                SP  ...   \n",
       "3       F       9,35474E+15         SAO PAULO                SP  ...   \n",
       "4       F               NaN               NaN               NaN  ...   \n",
       "\n",
       "  CD_UNIDADE_FUNCAO CD_FUNCAO DC_FUNCAO DT_INICIO_FUNCAO  \\\n",
       "0               NaN       NaN       NaN              NaN   \n",
       "1               NaN       NaN       NaN              NaN   \n",
       "2               NaN       NaN       NaN              NaN   \n",
       "3               NaN       NaN       NaN              NaN   \n",
       "4               NaN       NaN       NaN              NaN   \n",
       "\n",
       "  CD_UNIDADE_SOBREPOSTO  CD_SOBREPOSTO DC_SOBREPOSTO  DT_INICIO_SOBREPOSTO  \\\n",
       "0                   NaN            NaN           NaN                   NaN   \n",
       "1                   NaN            NaN           NaN                   NaN   \n",
       "2                   NaN            NaN           NaN                   NaN   \n",
       "3                   NaN            NaN           NaN                   NaN   \n",
       "4                   NaN            NaN           NaN                   NaN   \n",
       "\n",
       "  ACUMULO_AMBITO ACUMULO_SITUACAO_SEGUNDO_VINCULO  \n",
       "0            NaN                              NaN  \n",
       "1            NaN                              NaN  \n",
       "2            NaN                              NaN  \n",
       "3            NaN                          Efetivo  \n",
       "4            NaN                              NaN  \n",
       "\n",
       "[5 rows x 49 columns]"
      ]
     },
     "metadata": {},
     "output_type": "display_data"
    },
    {
     "data": {
      "text/html": [
       "<div>\n",
       "<style scoped>\n",
       "    .dataframe tbody tr th:only-of-type {\n",
       "        vertical-align: middle;\n",
       "    }\n",
       "\n",
       "    .dataframe tbody tr th {\n",
       "        vertical-align: top;\n",
       "    }\n",
       "\n",
       "    .dataframe thead th {\n",
       "        text-align: right;\n",
       "    }\n",
       "</style>\n",
       "<table border=\"1\" class=\"dataframe\">\n",
       "  <thead>\n",
       "    <tr style=\"text-align: right;\">\n",
       "      <th></th>\n",
       "      <th>DATA_BASE_EOL</th>\n",
       "      <th>ANO_REFERENCIA</th>\n",
       "      <th>CD_CAR_SERV_SME</th>\n",
       "      <th>MES_NASC</th>\n",
       "      <th>ANO_NASC</th>\n",
       "      <th>IDADE</th>\n",
       "      <th>CD_SEXO</th>\n",
       "      <th>CD_MUNICIPIO_NASC</th>\n",
       "      <th>DC_MUNICIPIO_NASC</th>\n",
       "      <th>UF_MUNICIPIO_NASC</th>\n",
       "      <th>...</th>\n",
       "      <th>CD_UNIDADE_FUNCAO</th>\n",
       "      <th>CD_FUNCAO</th>\n",
       "      <th>DC_FUNCAO</th>\n",
       "      <th>DT_INICIO_FUNCAO</th>\n",
       "      <th>CD_UNIDADE_SOBREPOSTO</th>\n",
       "      <th>CD_SOBREPOSTO</th>\n",
       "      <th>DC_SOBREPOSTO</th>\n",
       "      <th>DT_INICIO_SOBREPOSTO</th>\n",
       "      <th>ACUMULO_AMBITO</th>\n",
       "      <th>ACUMULO_SITUACAO_SEGUNDO_VINCULO</th>\n",
       "    </tr>\n",
       "  </thead>\n",
       "  <tbody>\n",
       "    <tr>\n",
       "      <th>86570</th>\n",
       "      <td>Dez de 2023</td>\n",
       "      <td>2023</td>\n",
       "      <td>9,37174E+15</td>\n",
       "      <td>2</td>\n",
       "      <td>1979</td>\n",
       "      <td>44</td>\n",
       "      <td>F</td>\n",
       "      <td>9,35474E+15</td>\n",
       "      <td>SAO PAULO</td>\n",
       "      <td>SP</td>\n",
       "      <td>...</td>\n",
       "      <td>NaN</td>\n",
       "      <td>NaN</td>\n",
       "      <td>NaN</td>\n",
       "      <td>NaN</td>\n",
       "      <td>NaN</td>\n",
       "      <td>NaN</td>\n",
       "      <td>NaN</td>\n",
       "      <td>NaN</td>\n",
       "      <td>NaN</td>\n",
       "      <td>NaN</td>\n",
       "    </tr>\n",
       "    <tr>\n",
       "      <th>86571</th>\n",
       "      <td>Dez de 2023</td>\n",
       "      <td>2023</td>\n",
       "      <td>8,37175E+15</td>\n",
       "      <td>7</td>\n",
       "      <td>1978</td>\n",
       "      <td>45</td>\n",
       "      <td>F</td>\n",
       "      <td>3,18737E+14</td>\n",
       "      <td>XIQUE-XIQUE</td>\n",
       "      <td>BA</td>\n",
       "      <td>...</td>\n",
       "      <td>NaN</td>\n",
       "      <td>NaN</td>\n",
       "      <td>NaN</td>\n",
       "      <td>NaN</td>\n",
       "      <td>NaN</td>\n",
       "      <td>NaN</td>\n",
       "      <td>NaN</td>\n",
       "      <td>NaN</td>\n",
       "      <td>NaN</td>\n",
       "      <td>NaN</td>\n",
       "    </tr>\n",
       "    <tr>\n",
       "      <th>86572</th>\n",
       "      <td>Dez de 2023</td>\n",
       "      <td>2023</td>\n",
       "      <td>9,37174E+15</td>\n",
       "      <td>2</td>\n",
       "      <td>1979</td>\n",
       "      <td>44</td>\n",
       "      <td>F</td>\n",
       "      <td>9,35474E+15</td>\n",
       "      <td>SAO PAULO</td>\n",
       "      <td>SP</td>\n",
       "      <td>...</td>\n",
       "      <td>NaN</td>\n",
       "      <td>NaN</td>\n",
       "      <td>NaN</td>\n",
       "      <td>NaN</td>\n",
       "      <td>NaN</td>\n",
       "      <td>NaN</td>\n",
       "      <td>NaN</td>\n",
       "      <td>NaN</td>\n",
       "      <td>NaN</td>\n",
       "      <td>NaN</td>\n",
       "    </tr>\n",
       "    <tr>\n",
       "      <th>86573</th>\n",
       "      <td>Dez de 2023</td>\n",
       "      <td>2023</td>\n",
       "      <td>3,71736E+14</td>\n",
       "      <td>10</td>\n",
       "      <td>1988</td>\n",
       "      <td>35</td>\n",
       "      <td>F</td>\n",
       "      <td>9,35474E+15</td>\n",
       "      <td>SAO PAULO</td>\n",
       "      <td>SP</td>\n",
       "      <td>...</td>\n",
       "      <td>NaN</td>\n",
       "      <td>NaN</td>\n",
       "      <td>NaN</td>\n",
       "      <td>NaN</td>\n",
       "      <td>NaN</td>\n",
       "      <td>NaN</td>\n",
       "      <td>NaN</td>\n",
       "      <td>NaN</td>\n",
       "      <td>NaN</td>\n",
       "      <td>NaN</td>\n",
       "    </tr>\n",
       "    <tr>\n",
       "      <th>86574</th>\n",
       "      <td>Dez de 2023</td>\n",
       "      <td>2023</td>\n",
       "      <td>9,37174E+15</td>\n",
       "      <td>3</td>\n",
       "      <td>1983</td>\n",
       "      <td>40</td>\n",
       "      <td>F</td>\n",
       "      <td>3,55731E+14</td>\n",
       "      <td>BIRITINGA</td>\n",
       "      <td>BA</td>\n",
       "      <td>...</td>\n",
       "      <td>NaN</td>\n",
       "      <td>NaN</td>\n",
       "      <td>NaN</td>\n",
       "      <td>NaN</td>\n",
       "      <td>NaN</td>\n",
       "      <td>NaN</td>\n",
       "      <td>NaN</td>\n",
       "      <td>NaN</td>\n",
       "      <td>NaN</td>\n",
       "      <td>NaN</td>\n",
       "    </tr>\n",
       "  </tbody>\n",
       "</table>\n",
       "<p>5 rows × 49 columns</p>\n",
       "</div>"
      ],
      "text/plain": [
       "      DATA_BASE_EOL  ANO_REFERENCIA CD_CAR_SERV_SME  MES_NASC  ANO_NASC  \\\n",
       "86570   Dez de 2023            2023     9,37174E+15         2      1979   \n",
       "86571   Dez de 2023            2023     8,37175E+15         7      1978   \n",
       "86572   Dez de 2023            2023     9,37174E+15         2      1979   \n",
       "86573   Dez de 2023            2023     3,71736E+14        10      1988   \n",
       "86574   Dez de 2023            2023     9,37174E+15         3      1983   \n",
       "\n",
       "       IDADE CD_SEXO CD_MUNICIPIO_NASC DC_MUNICIPIO_NASC UF_MUNICIPIO_NASC  \\\n",
       "86570     44       F       9,35474E+15         SAO PAULO                SP   \n",
       "86571     45       F       3,18737E+14       XIQUE-XIQUE                BA   \n",
       "86572     44       F       9,35474E+15         SAO PAULO                SP   \n",
       "86573     35       F       9,35474E+15         SAO PAULO                SP   \n",
       "86574     40       F       3,55731E+14         BIRITINGA                BA   \n",
       "\n",
       "       ... CD_UNIDADE_FUNCAO CD_FUNCAO DC_FUNCAO DT_INICIO_FUNCAO  \\\n",
       "86570  ...               NaN       NaN       NaN              NaN   \n",
       "86571  ...               NaN       NaN       NaN              NaN   \n",
       "86572  ...               NaN       NaN       NaN              NaN   \n",
       "86573  ...               NaN       NaN       NaN              NaN   \n",
       "86574  ...               NaN       NaN       NaN              NaN   \n",
       "\n",
       "      CD_UNIDADE_SOBREPOSTO  CD_SOBREPOSTO DC_SOBREPOSTO  \\\n",
       "86570                   NaN            NaN           NaN   \n",
       "86571                   NaN            NaN           NaN   \n",
       "86572                   NaN            NaN           NaN   \n",
       "86573                   NaN            NaN           NaN   \n",
       "86574                   NaN            NaN           NaN   \n",
       "\n",
       "       DT_INICIO_SOBREPOSTO ACUMULO_AMBITO ACUMULO_SITUACAO_SEGUNDO_VINCULO  \n",
       "86570                   NaN            NaN                              NaN  \n",
       "86571                   NaN            NaN                              NaN  \n",
       "86572                   NaN            NaN                              NaN  \n",
       "86573                   NaN            NaN                              NaN  \n",
       "86574                   NaN            NaN                              NaN  \n",
       "\n",
       "[5 rows x 49 columns]"
      ]
     },
     "metadata": {},
     "output_type": "display_data"
    }
   ],
   "source": [
    "print(f'A base de dados contém {df_servidores.shape[0]} observações e {df_servidores.shape[1]} atributos.')\n",
    "display(df_servidores.head())\n",
    "display(df_servidores.tail())\n"
   ]
  },
  {
   "cell_type": "markdown",
   "metadata": {},
   "source": [
    "### Tratando os dados"
   ]
  },
  {
   "cell_type": "markdown",
   "metadata": {},
   "source": [
    "#### Verificando a presença de observações duplicadas e excluindo-as"
   ]
  },
  {
   "cell_type": "code",
   "execution_count": 4,
   "metadata": {},
   "outputs": [
    {
     "data": {
      "text/plain": [
       "6"
      ]
     },
     "metadata": {},
     "output_type": "display_data"
    }
   ],
   "source": [
    "display(df_servidores.duplicated().sum())\n",
    "df_servidores = df_servidores.drop_duplicates()\n"
   ]
  },
  {
   "cell_type": "markdown",
   "metadata": {},
   "source": [
    "#### Excluindo colunas redundantes e desnecessárias, além das que contêm uma quantidade de valores nulos tão alta que a invalida para a análise. "
   ]
  },
  {
   "cell_type": "code",
   "execution_count": 5,
   "metadata": {},
   "outputs": [
    {
     "data": {
      "text/plain": [
       "array(['Dez de 2023'], dtype=object)"
      ]
     },
     "metadata": {},
     "output_type": "display_data"
    },
    {
     "data": {
      "text/plain": [
       "array([2023])"
      ]
     },
     "metadata": {},
     "output_type": "display_data"
    }
   ],
   "source": [
    "display(df_servidores['DATA_BASE_EOL'].unique())\n",
    "display(df_servidores['ANO_REFERENCIA'].unique())"
   ]
  },
  {
   "cell_type": "code",
   "execution_count": 6,
   "metadata": {},
   "outputs": [
    {
     "data": {
      "text/plain": [
       "Index(['DATA_BASE_EOL', 'ANO_REFERENCIA', 'CD_CAR_SERV_SME', 'MES_NASC',\n",
       "       'ANO_NASC', 'IDADE', 'CD_SEXO', 'CD_MUNICIPIO_NASC',\n",
       "       'DC_MUNICIPIO_NASC', 'UF_MUNICIPIO_NASC', 'CD_PAIS_NASC',\n",
       "       'DC_PAIS_NASC', 'CD_MUNICIPIO_RES', 'DC_MUNICIPIO_RES',\n",
       "       'UF_MUNICIPIO_RES', 'CD_RACA_COR', 'DC_RACA_COR', 'CD_DEF', 'DC_DEF',\n",
       "       'NIVEL_FORM', 'DC_SIT_FUNC', 'CD_CARGO_BASE', 'DC_CARGO_BASE',\n",
       "       'CD_AREA_ATUACAO_BASE', 'DC_AREA_ATUACAO_BASE', 'DT_INICIO_CARGO_BASE',\n",
       "       'CD_UNIDADE_BASE', 'TP_UNIDADE_BASE', 'DC_UNIDADE_BASE',\n",
       "       'SIGLA_LOTACAO', 'TP_LOTACAO', 'CD_CARGO_ATUAL', 'DC_CARGO_ATUAL',\n",
       "       'CD_AREA_ATUACAO_ATUAL', 'DC_AREA_ATUACAO_ATUAL', 'CD_UNIDADE_ATUAL',\n",
       "       'TP_UNIDADE_ATUAL', 'DC_UNIDADE_ATUAL', 'SIGLA_ATUAL',\n",
       "       'CD_UNIDADE_FUNCAO', 'CD_FUNCAO', 'DC_FUNCAO', 'DT_INICIO_FUNCAO',\n",
       "       'CD_UNIDADE_SOBREPOSTO', 'CD_SOBREPOSTO', 'DC_SOBREPOSTO',\n",
       "       'DT_INICIO_SOBREPOSTO', 'ACUMULO_AMBITO',\n",
       "       'ACUMULO_SITUACAO_SEGUNDO_VINCULO'],\n",
       "      dtype='object')"
      ]
     },
     "execution_count": 6,
     "metadata": {},
     "output_type": "execute_result"
    }
   ],
   "source": [
    "df_servidores.columns"
   ]
  },
  {
   "cell_type": "code",
   "execution_count": 7,
   "metadata": {},
   "outputs": [],
   "source": [
    "df_servidores = df_servidores.drop(columns = ['DATA_BASE_EOL', 'ANO_REFERENCIA', 'CD_CAR_SERV_SME', 'DT_INICIO_CARGO_BASE', 'DT_INICIO_FUNCAO', 'DT_INICIO_SOBREPOSTO',\n",
    "                                              'CD_MUNICIPIO_NASC', 'CD_PAIS_NASC', 'CD_MUNICIPIO_RES', 'CD_RACA_COR', 'CD_DEF', 'CD_CARGO_BASE',\n",
    "                                              'CD_AREA_ATUACAO_BASE', 'CD_UNIDADE_BASE', 'CD_CARGO_ATUAL', 'CD_AREA_ATUACAO_ATUAL', 'CD_UNIDADE_ATUAL',\n",
    "                                                'CD_UNIDADE_FUNCAO', 'CD_FUNCAO','CD_UNIDADE_SOBREPOSTO', 'CD_UNIDADE_ATUAL','CD_SOBREPOSTO', \n",
    "                                                'SIGLA_LOTACAO', 'TP_LOTACAO', 'SIGLA_ATUAL', 'DC_UNIDADE_ATUAL', 'DC_UNIDADE_BASE'])"
   ]
  },
  {
   "cell_type": "markdown",
   "metadata": {},
   "source": [
    "#### A função abaixo identifica as colunas que apresentam uma proporção de dados nulos maior ou igual a 20% e as exclui, pois elas não contêm uma quantidade significativa de dados que as tornem relevantes para a análise."
   ]
  },
  {
   "cell_type": "code",
   "execution_count": 8,
   "metadata": {},
   "outputs": [],
   "source": [
    "def excluir_colunas_com_muitos_nulos(df):\n",
    "    for coluna in df.columns:\n",
    "        total_nulos = df[coluna].isnull().sum()\n",
    "        percentual_nulos = (total_nulos/len(df)) * 100\n",
    "        if percentual_nulos >= 20:\n",
    "            df = df.drop(columns = [coluna]) \n",
    "    return df        \n"
   ]
  },
  {
   "cell_type": "code",
   "execution_count": 9,
   "metadata": {},
   "outputs": [],
   "source": [
    "df_servidores = excluir_colunas_com_muitos_nulos(df_servidores)"
   ]
  },
  {
   "cell_type": "markdown",
   "metadata": {},
   "source": [
    "#### Verificando o tipo dos dados"
   ]
  },
  {
   "cell_type": "code",
   "execution_count": 10,
   "metadata": {},
   "outputs": [
    {
     "name": "stdout",
     "output_type": "stream",
     "text": [
      "<class 'pandas.core.frame.DataFrame'>\n",
      "Index: 86569 entries, 0 to 86574\n",
      "Data columns (total 19 columns):\n",
      " #   Column                 Non-Null Count  Dtype \n",
      "---  ------                 --------------  ----- \n",
      " 0   MES_NASC               86569 non-null  int64 \n",
      " 1   ANO_NASC               86569 non-null  int64 \n",
      " 2   IDADE                  86569 non-null  int64 \n",
      " 3   CD_SEXO                86569 non-null  object\n",
      " 4   DC_MUNICIPIO_NASC      80793 non-null  object\n",
      " 5   UF_MUNICIPIO_NASC      80793 non-null  object\n",
      " 6   DC_PAIS_NASC           86517 non-null  object\n",
      " 7   DC_MUNICIPIO_RES       86274 non-null  object\n",
      " 8   UF_MUNICIPIO_RES       86274 non-null  object\n",
      " 9   DC_RACA_COR            86569 non-null  object\n",
      " 10  DC_DEF                 86569 non-null  object\n",
      " 11  NIVEL_FORM             86437 non-null  object\n",
      " 12  DC_SIT_FUNC            86569 non-null  object\n",
      " 13  DC_CARGO_BASE          86569 non-null  object\n",
      " 14  DC_AREA_ATUACAO_BASE   86569 non-null  object\n",
      " 15  TP_UNIDADE_BASE        86568 non-null  object\n",
      " 16  DC_CARGO_ATUAL         86569 non-null  object\n",
      " 17  DC_AREA_ATUACAO_ATUAL  86569 non-null  object\n",
      " 18  TP_UNIDADE_ATUAL       86569 non-null  object\n",
      "dtypes: int64(3), object(16)\n",
      "memory usage: 13.2+ MB\n"
     ]
    }
   ],
   "source": [
    "df_servidores.info()"
   ]
  },
  {
   "cell_type": "code",
   "execution_count": 11,
   "metadata": {},
   "outputs": [],
   "source": [
    "df_servidores = df_servidores.fillna('SEM INFORMAÇÃO')"
   ]
  },
  {
   "cell_type": "markdown",
   "metadata": {},
   "source": [
    "#### Criando a variável \"IDADE_ATUALIZADA\", que apresenta as idades atuais dos servidores."
   ]
  },
  {
   "cell_type": "code",
   "execution_count": 12,
   "metadata": {},
   "outputs": [
    {
     "data": {
      "text/html": [
       "<div>\n",
       "<style scoped>\n",
       "    .dataframe tbody tr th:only-of-type {\n",
       "        vertical-align: middle;\n",
       "    }\n",
       "\n",
       "    .dataframe tbody tr th {\n",
       "        vertical-align: top;\n",
       "    }\n",
       "\n",
       "    .dataframe thead th {\n",
       "        text-align: right;\n",
       "    }\n",
       "</style>\n",
       "<table border=\"1\" class=\"dataframe\">\n",
       "  <thead>\n",
       "    <tr style=\"text-align: right;\">\n",
       "      <th></th>\n",
       "      <th>MES_NASC</th>\n",
       "      <th>ANO_NASC</th>\n",
       "      <th>IDADE</th>\n",
       "      <th>CD_SEXO</th>\n",
       "      <th>DC_MUNICIPIO_NASC</th>\n",
       "      <th>UF_MUNICIPIO_NASC</th>\n",
       "      <th>DC_PAIS_NASC</th>\n",
       "      <th>DC_MUNICIPIO_RES</th>\n",
       "      <th>UF_MUNICIPIO_RES</th>\n",
       "      <th>DC_RACA_COR</th>\n",
       "      <th>DC_DEF</th>\n",
       "      <th>NIVEL_FORM</th>\n",
       "      <th>DC_SIT_FUNC</th>\n",
       "      <th>DC_CARGO_BASE</th>\n",
       "      <th>DC_AREA_ATUACAO_BASE</th>\n",
       "      <th>TP_UNIDADE_BASE</th>\n",
       "      <th>DC_CARGO_ATUAL</th>\n",
       "      <th>DC_AREA_ATUACAO_ATUAL</th>\n",
       "      <th>TP_UNIDADE_ATUAL</th>\n",
       "      <th>IDADE_ATUALIZADA</th>\n",
       "    </tr>\n",
       "  </thead>\n",
       "  <tbody>\n",
       "    <tr>\n",
       "      <th>0</th>\n",
       "      <td>10</td>\n",
       "      <td>1990</td>\n",
       "      <td>33</td>\n",
       "      <td>F</td>\n",
       "      <td>SEM INFORMAÇÃO</td>\n",
       "      <td>SEM INFORMAÇÃO</td>\n",
       "      <td>BRASIL</td>\n",
       "      <td>SAO PAULO</td>\n",
       "      <td>SP</td>\n",
       "      <td>NAO INFORMADA</td>\n",
       "      <td>NAO POSSUI</td>\n",
       "      <td>POS GRADUACAO LATO SENSU</td>\n",
       "      <td>EFETIVO</td>\n",
       "      <td>PROF.ED.INF.E ENS.FUND.I</td>\n",
       "      <td>ENSINO FUNDAMENTAL I E INFANTIL</td>\n",
       "      <td>CEU EMEI</td>\n",
       "      <td>PROF.ED.INF.E ENS.FUND.I</td>\n",
       "      <td>ENSINO FUNDAMENTAL I E INFANTIL</td>\n",
       "      <td>CEU EMEI</td>\n",
       "      <td>34</td>\n",
       "    </tr>\n",
       "    <tr>\n",
       "      <th>1</th>\n",
       "      <td>1</td>\n",
       "      <td>1972</td>\n",
       "      <td>51</td>\n",
       "      <td>F</td>\n",
       "      <td>GUARULHOS</td>\n",
       "      <td>SP</td>\n",
       "      <td>BRASIL</td>\n",
       "      <td>GUARULHOS</td>\n",
       "      <td>SP</td>\n",
       "      <td>BRANCA</td>\n",
       "      <td>NAO POSSUI</td>\n",
       "      <td>BACHARELADO</td>\n",
       "      <td>EFETIVO</td>\n",
       "      <td>PROF.ED.INF.E ENS.FUND.I</td>\n",
       "      <td>ENSINO FUNDAMENTAL I E INFANTIL</td>\n",
       "      <td>EMEFM</td>\n",
       "      <td>PROF.ED.INF.E ENS.FUND.I</td>\n",
       "      <td>ENSINO FUNDAMENTAL I E INFANTIL</td>\n",
       "      <td>EMEFM</td>\n",
       "      <td>53</td>\n",
       "    </tr>\n",
       "    <tr>\n",
       "      <th>2</th>\n",
       "      <td>2</td>\n",
       "      <td>1975</td>\n",
       "      <td>48</td>\n",
       "      <td>F</td>\n",
       "      <td>SAO PAULO</td>\n",
       "      <td>SP</td>\n",
       "      <td>BRASIL</td>\n",
       "      <td>SAO PAULO</td>\n",
       "      <td>SP</td>\n",
       "      <td>NAO INFORMADA</td>\n",
       "      <td>NAO POSSUI</td>\n",
       "      <td>LICENCIATURA PLENA</td>\n",
       "      <td>EFETIVO</td>\n",
       "      <td>PROF.ED.INF.E ENS.FUND.I</td>\n",
       "      <td>ENSINO FUNDAMENTAL I E INFANTIL</td>\n",
       "      <td>EMEI</td>\n",
       "      <td>PROF.ED.INF.E ENS.FUND.I</td>\n",
       "      <td>ENSINO FUNDAMENTAL I E INFANTIL</td>\n",
       "      <td>EMEI</td>\n",
       "      <td>50</td>\n",
       "    </tr>\n",
       "    <tr>\n",
       "      <th>3</th>\n",
       "      <td>5</td>\n",
       "      <td>1991</td>\n",
       "      <td>32</td>\n",
       "      <td>F</td>\n",
       "      <td>SAO PAULO</td>\n",
       "      <td>SP</td>\n",
       "      <td>BRASIL</td>\n",
       "      <td>SAO PAULO</td>\n",
       "      <td>SP</td>\n",
       "      <td>BRANCA</td>\n",
       "      <td>NAO POSSUI</td>\n",
       "      <td>POS GRADUACAO LATO SENSU</td>\n",
       "      <td>EFETIVO</td>\n",
       "      <td>PROF.ED.INF.E ENS.FUND.I</td>\n",
       "      <td>ENSINO FUNDAMENTAL I E INFANTIL</td>\n",
       "      <td>EMEI</td>\n",
       "      <td>PROF.ED.INF.E ENS.FUND.I</td>\n",
       "      <td>ENSINO FUNDAMENTAL I E INFANTIL</td>\n",
       "      <td>EMEI</td>\n",
       "      <td>34</td>\n",
       "    </tr>\n",
       "    <tr>\n",
       "      <th>4</th>\n",
       "      <td>3</td>\n",
       "      <td>1984</td>\n",
       "      <td>39</td>\n",
       "      <td>F</td>\n",
       "      <td>SEM INFORMAÇÃO</td>\n",
       "      <td>SEM INFORMAÇÃO</td>\n",
       "      <td>BRASIL</td>\n",
       "      <td>SAO PAULO</td>\n",
       "      <td>SP</td>\n",
       "      <td>NAO INFORMADA</td>\n",
       "      <td>NAO POSSUI</td>\n",
       "      <td>POS GRADUACAO LATO SENSU</td>\n",
       "      <td>EFETIVO</td>\n",
       "      <td>PROF.DE ED.INFANTIL</td>\n",
       "      <td>EDUCACAO INFANTIL</td>\n",
       "      <td>CEI DIRET</td>\n",
       "      <td>PROF.DE ED.INFANTIL</td>\n",
       "      <td>EDUCACAO INFANTIL</td>\n",
       "      <td>CEI DIRET</td>\n",
       "      <td>41</td>\n",
       "    </tr>\n",
       "    <tr>\n",
       "      <th>...</th>\n",
       "      <td>...</td>\n",
       "      <td>...</td>\n",
       "      <td>...</td>\n",
       "      <td>...</td>\n",
       "      <td>...</td>\n",
       "      <td>...</td>\n",
       "      <td>...</td>\n",
       "      <td>...</td>\n",
       "      <td>...</td>\n",
       "      <td>...</td>\n",
       "      <td>...</td>\n",
       "      <td>...</td>\n",
       "      <td>...</td>\n",
       "      <td>...</td>\n",
       "      <td>...</td>\n",
       "      <td>...</td>\n",
       "      <td>...</td>\n",
       "      <td>...</td>\n",
       "      <td>...</td>\n",
       "      <td>...</td>\n",
       "    </tr>\n",
       "    <tr>\n",
       "      <th>86570</th>\n",
       "      <td>2</td>\n",
       "      <td>1979</td>\n",
       "      <td>44</td>\n",
       "      <td>F</td>\n",
       "      <td>SAO PAULO</td>\n",
       "      <td>SP</td>\n",
       "      <td>BRASIL</td>\n",
       "      <td>SAO PAULO</td>\n",
       "      <td>SP</td>\n",
       "      <td>PRETA</td>\n",
       "      <td>NAO POSSUI</td>\n",
       "      <td>LICENCIATURA PLENA</td>\n",
       "      <td>CONTRATADO</td>\n",
       "      <td>PROF.ED.INF.E ENS.FUND.I</td>\n",
       "      <td>ENSINO FUNDAMENTAL I E INFANTIL</td>\n",
       "      <td>DIR EDUC</td>\n",
       "      <td>PROF.ED.INF.E ENS.FUND.I</td>\n",
       "      <td>ENSINO FUNDAMENTAL I E INFANTIL</td>\n",
       "      <td>EMEBS</td>\n",
       "      <td>46</td>\n",
       "    </tr>\n",
       "    <tr>\n",
       "      <th>86571</th>\n",
       "      <td>7</td>\n",
       "      <td>1978</td>\n",
       "      <td>45</td>\n",
       "      <td>F</td>\n",
       "      <td>XIQUE-XIQUE</td>\n",
       "      <td>BA</td>\n",
       "      <td>BRASIL</td>\n",
       "      <td>SAO PAULO</td>\n",
       "      <td>SP</td>\n",
       "      <td>PARDA</td>\n",
       "      <td>NAO POSSUI</td>\n",
       "      <td>LICENCIATURA PLENA</td>\n",
       "      <td>CONTRATADO</td>\n",
       "      <td>PROF.DE ED.INFANTIL</td>\n",
       "      <td>EDUCACAO INFANTIL</td>\n",
       "      <td>DIR EDUC</td>\n",
       "      <td>PROF.DE ED.INFANTIL</td>\n",
       "      <td>EDUCACAO INFANTIL</td>\n",
       "      <td>CEI DIRET</td>\n",
       "      <td>46</td>\n",
       "    </tr>\n",
       "    <tr>\n",
       "      <th>86572</th>\n",
       "      <td>2</td>\n",
       "      <td>1979</td>\n",
       "      <td>44</td>\n",
       "      <td>F</td>\n",
       "      <td>SAO PAULO</td>\n",
       "      <td>SP</td>\n",
       "      <td>BRASIL</td>\n",
       "      <td>SAO PAULO</td>\n",
       "      <td>SP</td>\n",
       "      <td>BRANCA</td>\n",
       "      <td>NAO POSSUI</td>\n",
       "      <td>LICENCIATURA PLENA</td>\n",
       "      <td>CONTRATADO</td>\n",
       "      <td>PROF.DE ED.INFANTIL</td>\n",
       "      <td>EDUCACAO INFANTIL</td>\n",
       "      <td>DIR EDUC</td>\n",
       "      <td>PROF.DE ED.INFANTIL</td>\n",
       "      <td>EDUCACAO INFANTIL</td>\n",
       "      <td>CEI DIRET</td>\n",
       "      <td>46</td>\n",
       "    </tr>\n",
       "    <tr>\n",
       "      <th>86573</th>\n",
       "      <td>10</td>\n",
       "      <td>1988</td>\n",
       "      <td>35</td>\n",
       "      <td>F</td>\n",
       "      <td>SAO PAULO</td>\n",
       "      <td>SP</td>\n",
       "      <td>BRASIL</td>\n",
       "      <td>SAO PAULO</td>\n",
       "      <td>SP</td>\n",
       "      <td>RECUSOU INFORMAR</td>\n",
       "      <td>NAO POSSUI</td>\n",
       "      <td>LICENCIATURA PLENA</td>\n",
       "      <td>CONTRATADO</td>\n",
       "      <td>PROF.DE ED.INFANTIL</td>\n",
       "      <td>EDUCACAO INFANTIL</td>\n",
       "      <td>DIR EDUC</td>\n",
       "      <td>PROF.DE ED.INFANTIL</td>\n",
       "      <td>EDUCACAO INFANTIL</td>\n",
       "      <td>DIR EDUC</td>\n",
       "      <td>36</td>\n",
       "    </tr>\n",
       "    <tr>\n",
       "      <th>86574</th>\n",
       "      <td>3</td>\n",
       "      <td>1983</td>\n",
       "      <td>40</td>\n",
       "      <td>F</td>\n",
       "      <td>BIRITINGA</td>\n",
       "      <td>BA</td>\n",
       "      <td>BRASIL</td>\n",
       "      <td>SAO PAULO</td>\n",
       "      <td>SP</td>\n",
       "      <td>PARDA</td>\n",
       "      <td>NAO POSSUI</td>\n",
       "      <td>MAGISTÃƒâ€°RIO</td>\n",
       "      <td>CONTRATADO</td>\n",
       "      <td>PROF.DE ED.INFANTIL</td>\n",
       "      <td>EDUCACAO INFANTIL</td>\n",
       "      <td>DIR EDUC</td>\n",
       "      <td>PROF.DE ED.INFANTIL</td>\n",
       "      <td>EDUCACAO INFANTIL</td>\n",
       "      <td>CEI DIRET</td>\n",
       "      <td>42</td>\n",
       "    </tr>\n",
       "  </tbody>\n",
       "</table>\n",
       "<p>86569 rows × 20 columns</p>\n",
       "</div>"
      ],
      "text/plain": [
       "       MES_NASC  ANO_NASC  IDADE CD_SEXO DC_MUNICIPIO_NASC UF_MUNICIPIO_NASC  \\\n",
       "0            10      1990     33       F    SEM INFORMAÇÃO    SEM INFORMAÇÃO   \n",
       "1             1      1972     51       F         GUARULHOS                SP   \n",
       "2             2      1975     48       F         SAO PAULO                SP   \n",
       "3             5      1991     32       F         SAO PAULO                SP   \n",
       "4             3      1984     39       F    SEM INFORMAÇÃO    SEM INFORMAÇÃO   \n",
       "...         ...       ...    ...     ...               ...               ...   \n",
       "86570         2      1979     44       F         SAO PAULO                SP   \n",
       "86571         7      1978     45       F       XIQUE-XIQUE                BA   \n",
       "86572         2      1979     44       F         SAO PAULO                SP   \n",
       "86573        10      1988     35       F         SAO PAULO                SP   \n",
       "86574         3      1983     40       F         BIRITINGA                BA   \n",
       "\n",
       "      DC_PAIS_NASC DC_MUNICIPIO_RES UF_MUNICIPIO_RES       DC_RACA_COR  \\\n",
       "0           BRASIL        SAO PAULO               SP     NAO INFORMADA   \n",
       "1           BRASIL        GUARULHOS               SP            BRANCA   \n",
       "2           BRASIL        SAO PAULO               SP     NAO INFORMADA   \n",
       "3           BRASIL        SAO PAULO               SP            BRANCA   \n",
       "4           BRASIL        SAO PAULO               SP     NAO INFORMADA   \n",
       "...            ...              ...              ...               ...   \n",
       "86570       BRASIL        SAO PAULO               SP             PRETA   \n",
       "86571       BRASIL        SAO PAULO               SP             PARDA   \n",
       "86572       BRASIL        SAO PAULO               SP            BRANCA   \n",
       "86573       BRASIL        SAO PAULO               SP  RECUSOU INFORMAR   \n",
       "86574       BRASIL        SAO PAULO               SP             PARDA   \n",
       "\n",
       "           DC_DEF                NIVEL_FORM DC_SIT_FUNC  \\\n",
       "0      NAO POSSUI  POS GRADUACAO LATO SENSU     EFETIVO   \n",
       "1      NAO POSSUI               BACHARELADO     EFETIVO   \n",
       "2      NAO POSSUI        LICENCIATURA PLENA     EFETIVO   \n",
       "3      NAO POSSUI  POS GRADUACAO LATO SENSU     EFETIVO   \n",
       "4      NAO POSSUI  POS GRADUACAO LATO SENSU     EFETIVO   \n",
       "...           ...                       ...         ...   \n",
       "86570  NAO POSSUI        LICENCIATURA PLENA  CONTRATADO   \n",
       "86571  NAO POSSUI        LICENCIATURA PLENA  CONTRATADO   \n",
       "86572  NAO POSSUI        LICENCIATURA PLENA  CONTRATADO   \n",
       "86573  NAO POSSUI        LICENCIATURA PLENA  CONTRATADO   \n",
       "86574  NAO POSSUI            MAGISTÃƒâ€°RIO  CONTRATADO   \n",
       "\n",
       "                  DC_CARGO_BASE             DC_AREA_ATUACAO_BASE  \\\n",
       "0      PROF.ED.INF.E ENS.FUND.I  ENSINO FUNDAMENTAL I E INFANTIL   \n",
       "1      PROF.ED.INF.E ENS.FUND.I  ENSINO FUNDAMENTAL I E INFANTIL   \n",
       "2      PROF.ED.INF.E ENS.FUND.I  ENSINO FUNDAMENTAL I E INFANTIL   \n",
       "3      PROF.ED.INF.E ENS.FUND.I  ENSINO FUNDAMENTAL I E INFANTIL   \n",
       "4           PROF.DE ED.INFANTIL                EDUCACAO INFANTIL   \n",
       "...                         ...                              ...   \n",
       "86570  PROF.ED.INF.E ENS.FUND.I  ENSINO FUNDAMENTAL I E INFANTIL   \n",
       "86571       PROF.DE ED.INFANTIL                EDUCACAO INFANTIL   \n",
       "86572       PROF.DE ED.INFANTIL                EDUCACAO INFANTIL   \n",
       "86573       PROF.DE ED.INFANTIL                EDUCACAO INFANTIL   \n",
       "86574       PROF.DE ED.INFANTIL                EDUCACAO INFANTIL   \n",
       "\n",
       "      TP_UNIDADE_BASE            DC_CARGO_ATUAL  \\\n",
       "0            CEU EMEI  PROF.ED.INF.E ENS.FUND.I   \n",
       "1               EMEFM  PROF.ED.INF.E ENS.FUND.I   \n",
       "2                EMEI  PROF.ED.INF.E ENS.FUND.I   \n",
       "3                EMEI  PROF.ED.INF.E ENS.FUND.I   \n",
       "4           CEI DIRET       PROF.DE ED.INFANTIL   \n",
       "...               ...                       ...   \n",
       "86570        DIR EDUC  PROF.ED.INF.E ENS.FUND.I   \n",
       "86571        DIR EDUC       PROF.DE ED.INFANTIL   \n",
       "86572        DIR EDUC       PROF.DE ED.INFANTIL   \n",
       "86573        DIR EDUC       PROF.DE ED.INFANTIL   \n",
       "86574        DIR EDUC       PROF.DE ED.INFANTIL   \n",
       "\n",
       "                 DC_AREA_ATUACAO_ATUAL TP_UNIDADE_ATUAL  IDADE_ATUALIZADA  \n",
       "0      ENSINO FUNDAMENTAL I E INFANTIL         CEU EMEI                34  \n",
       "1      ENSINO FUNDAMENTAL I E INFANTIL            EMEFM                53  \n",
       "2      ENSINO FUNDAMENTAL I E INFANTIL             EMEI                50  \n",
       "3      ENSINO FUNDAMENTAL I E INFANTIL             EMEI                34  \n",
       "4                    EDUCACAO INFANTIL        CEI DIRET                41  \n",
       "...                                ...              ...               ...  \n",
       "86570  ENSINO FUNDAMENTAL I E INFANTIL            EMEBS                46  \n",
       "86571                EDUCACAO INFANTIL        CEI DIRET                46  \n",
       "86572                EDUCACAO INFANTIL        CEI DIRET                46  \n",
       "86573                EDUCACAO INFANTIL         DIR EDUC                36  \n",
       "86574                EDUCACAO INFANTIL        CEI DIRET                42  \n",
       "\n",
       "[86569 rows x 20 columns]"
      ]
     },
     "execution_count": 12,
     "metadata": {},
     "output_type": "execute_result"
    }
   ],
   "source": [
    "from datetime import datetime\n",
    "\n",
    "data_atual= datetime.today()\n",
    "\n",
    "def calcular_idade(mes, ano):\n",
    "    ano_atual = data_atual.year\n",
    "    mes_atual = data_atual.month\n",
    "    idade = ano_atual - ano\n",
    "    if mes > mes_atual:\n",
    "        idade -= 1  # Ainda não fez aniversário este ano\n",
    "    return idade\n",
    "\n",
    "# Aplicar a função linha por linha\n",
    "df_servidores['IDADE_ATUALIZADA'] = df_servidores.apply(lambda x: calcular_idade(x['MES_NASC'], x['ANO_NASC']), axis=1)\n",
    "#axis=0 → opera por coluna (movimento vertical, linha por linha dentro da coluna)\n",
    "#axis=1 → opera por linha (movimento horizontal, coluna por coluna dentro da linha)\n",
    "df_servidores"
   ]
  },
  {
   "cell_type": "code",
   "execution_count": 13,
   "metadata": {},
   "outputs": [],
   "source": [
    "df_servidores = df_servidores.drop(columns = 'IDADE')"
   ]
  },
  {
   "cell_type": "markdown",
   "metadata": {},
   "source": [
    "### Agora vamos explorar cada variável categórica mais a fundo, para identificar qualquer necessidade de tratamento nelas."
   ]
  },
  {
   "cell_type": "code",
   "execution_count": 14,
   "metadata": {},
   "outputs": [
    {
     "data": {
      "text/plain": [
       "Index(['CD_SEXO', 'DC_MUNICIPIO_NASC', 'UF_MUNICIPIO_NASC', 'DC_PAIS_NASC',\n",
       "       'DC_MUNICIPIO_RES', 'UF_MUNICIPIO_RES', 'DC_RACA_COR', 'DC_DEF',\n",
       "       'NIVEL_FORM', 'DC_SIT_FUNC', 'DC_CARGO_BASE', 'DC_AREA_ATUACAO_BASE',\n",
       "       'TP_UNIDADE_BASE', 'DC_CARGO_ATUAL', 'DC_AREA_ATUACAO_ATUAL',\n",
       "       'TP_UNIDADE_ATUAL'],\n",
       "      dtype='object')"
      ]
     },
     "execution_count": 14,
     "metadata": {},
     "output_type": "execute_result"
    }
   ],
   "source": [
    "variaveis_categoricas = df_servidores.select_dtypes(exclude='number').columns\n",
    "variaveis_categoricas"
   ]
  },
  {
   "cell_type": "code",
   "execution_count": 15,
   "metadata": {},
   "outputs": [
    {
     "name": "stdout",
     "output_type": "stream",
     "text": [
      "\n",
      "Coluna: CD_SEXO\n",
      "0    F\n",
      "1    M\n",
      "2    f\n",
      "3    m\n",
      "dtype: object\n",
      "\n",
      "Coluna: DC_MUNICIPIO_NASC\n",
      "0              SEM INFORMAÇÃO\n",
      "1                   GUARULHOS\n",
      "2                   SAO PAULO\n",
      "3                     ITAPAGE\n",
      "4       SAO BERNARDO DO CAMPO\n",
      "                ...          \n",
      "2551                REDENTORA\n",
      "2552                   ITALVA\n",
      "2553         SANTANA DO MATOS\n",
      "2554                  ORIENTE\n",
      "2555     SAO GABRIEL DA PALHA\n",
      "Length: 2556, dtype: object\n",
      "\n",
      "Coluna: UF_MUNICIPIO_NASC\n",
      "0     SEM INFORMAÇÃO\n",
      "1                 SP\n",
      "2                 CE\n",
      "3                 PB\n",
      "4                 MS\n",
      "5                 MG\n",
      "6                 PR\n",
      "7                 AL\n",
      "8                 PE\n",
      "9                 BA\n",
      "10                PI\n",
      "11                MA\n",
      "12                RN\n",
      "13                DF\n",
      "14                RJ\n",
      "15                MT\n",
      "16                PA\n",
      "17                ES\n",
      "18                GO\n",
      "19                SE\n",
      "20                AM\n",
      "21                RS\n",
      "22                SC\n",
      "23                TO\n",
      "24                RO\n",
      "25                AC\n",
      "26                RR\n",
      "27                AP\n",
      "dtype: object\n",
      "\n",
      "Coluna: DC_PAIS_NASC\n",
      "0                             BRASIL\n",
      "1                        NIGÃƒâ€°RIA\n",
      "2                           PORTUGAL\n",
      "3                     SEM INFORMAÇÃO\n",
      "4                           ALEMANHA\n",
      "5                               PERU\n",
      "6                          VENEZUELA\n",
      "7                              CHILE\n",
      "8                          ARGENTINA\n",
      "9                              CHINA\n",
      "10                           URUGUAI\n",
      "11                    SAARA ESPANHOL\n",
      "12                          PARAGUAI\n",
      "13                           ESPANHA\n",
      "14                         LÃƒÂBANO\n",
      "15                              CUBA\n",
      "16                          JAPÃƒÆ’O\n",
      "17                          SÃƒÂRIA\n",
      "18                         RESERVADO\n",
      "19                        BOLÃƒÂVIA\n",
      "20                          BOTSUANA\n",
      "21                            ANGOLA\n",
      "22                     COREIA DO SUL\n",
      "23                        CORÃƒâ€°IA\n",
      "24                        SERRA LEOA\n",
      "25    BONAIRE SAINT EUSTATIUS E SABA\n",
      "dtype: object\n",
      "\n",
      "Coluna: DC_MUNICIPIO_RES\n",
      "0                 SAO PAULO\n",
      "1                 GUARULHOS\n",
      "2     SAO BERNARDO DO CAMPO\n",
      "3               SANTO ANDRE\n",
      "4           MOGI DAS CRUZES\n",
      "              ...          \n",
      "92                  BIRIGUI\n",
      "93                  SERRANA\n",
      "94            SAO SEBASTIAO\n",
      "95                  GUARUJA\n",
      "96                     ITAI\n",
      "Length: 97, dtype: object\n",
      "\n",
      "Coluna: UF_MUNICIPIO_RES\n",
      "0                SP\n",
      "1    SEM INFORMAÇÃO\n",
      "dtype: object\n",
      "\n",
      "Coluna: DC_RACA_COR\n",
      "0       NAO INFORMADA\n",
      "1              BRANCA\n",
      "2               PARDA\n",
      "3               PRETA\n",
      "4             AMARELA\n",
      "5    RECUSOU INFORMAR\n",
      "6            INDIGENA\n",
      "dtype: object\n",
      "\n",
      "Coluna: DC_DEF\n",
      "0                           NAO POSSUI\n",
      "1       BAIXA VISAO OU VISAO SUBNORMAL\n",
      "2         DEFIC. FISICA NAO CADEIRANTE\n",
      "3               SURDEZ SEVERA/PROFUNDA\n",
      "4              DEFICIENCIA INTELECTUAL\n",
      "5       ALTAS HABILIDADES/SUPERDOTACAO\n",
      "6                 SURDEZ LEVE/MODERADA\n",
      "7                      VISAO MONOCULAR\n",
      "8                             CEGUEIRA\n",
      "9                   DEFICIENCIA FISICA\n",
      "10                             AUTISMO\n",
      "11                DEFICIENCIA MULTIPLA\n",
      "12      TRANST DESINTEGRATIVO INFANCIA\n",
      "13           FISICA PARALISIA CEREBRAL\n",
      "14                SINDROME DE ASPERGER\n",
      "15    DEFICIENCIA FÃƒÂSICA CADEIRANTE\n",
      "dtype: object\n",
      "\n",
      "Coluna: NIVEL_FORM\n",
      "0    POS GRADUACAO LATO SENSU\n",
      "1                 BACHARELADO\n",
      "2          LICENCIATURA PLENA\n",
      "3              MAGISTÃƒâ€°RIO\n",
      "4      1Ã‚Âº GRAU OU INFERIOR\n",
      "5                    MESTRADO\n",
      "6                   DOUTORADO\n",
      "7          LICENCIATURA CURTA\n",
      "8              SEM INFORMAÇÃO\n",
      "dtype: object\n",
      "\n",
      "Coluna: DC_SIT_FUNC\n",
      "0            EFETIVO\n",
      "1         CONTRATADO\n",
      "2        EM COMISSAO\n",
      "3    TERMO DE COOPER\n",
      "4     COMIS. ESTAVEL\n",
      "5           ADMITIDO\n",
      "6     ADMIT. ESTAVEL\n",
      "dtype: object\n",
      "\n",
      "Coluna: DC_CARGO_BASE\n",
      "0                PROF.ED.INF.E ENS.FUND.I\n",
      "1                     PROF.DE ED.INFANTIL\n",
      "2                  COORDENADOR PEDAGOGICO\n",
      "3            AUXILIAR TECNICO DE EDUCACAO\n",
      "4                             ASSESSOR II\n",
      "                     ...                 \n",
      "89           AUX.SERV.DE SAUDE-RADIOLOGIA\n",
      "90          ASSISTENTE DE SAUDE - NIVEL I\n",
      "91         PROF.ADJ.ENS.FUND.II-GEOGRAFIA\n",
      "92                PROF.ADJ.DE ENS.FUND. I\n",
      "93    PROF.ENS.FUND.II E MED.-CONT.CUSTOS\n",
      "Length: 94, dtype: object\n",
      "\n",
      "Coluna: DC_AREA_ATUACAO_BASE\n",
      "0            ENSINO FUNDAMENTAL I E INFANTIL\n",
      "1                          EDUCACAO INFANTIL\n",
      "2                         TECNICA PEDAGOGICA\n",
      "3                             ADMINISTRATIVA\n",
      "4                              APOIO TECNICO\n",
      "5                      ENSINO FUNDAMENTAL II\n",
      "6                               ENSINO MEDIO\n",
      "7     ATIV ARTISTICAS CULTURAIS E ESPORTIVAS\n",
      "8                                OPERACIONAL\n",
      "9                                      SAUDE\n",
      "10                       SEM AREA DE ATUACAO\n",
      "11               ASSIT ATIVIDADES ARTISTICAS\n",
      "dtype: object\n",
      "\n",
      "Coluna: TP_UNIDADE_BASE\n",
      "0           CEU EMEI\n",
      "1              EMEFM\n",
      "2               EMEI\n",
      "3          CEI DIRET\n",
      "4               EMEF\n",
      "5            CEU CEI\n",
      "6           CEU EMEF\n",
      "7              CEMEI\n",
      "8          CEU CEMEI\n",
      "9           DIR EDUC\n",
      "10               CEU\n",
      "11             COORD\n",
      "12               SME\n",
      "13             CIEJA\n",
      "14           VIRTUAL\n",
      "15             EMEBS\n",
      "16              CMCT\n",
      "17           DIVISAO\n",
      "18            NUCLEO\n",
      "19          OUT-PMSP\n",
      "20    SEM INFORMAÇÃO\n",
      "dtype: object\n",
      "\n",
      "Coluna: DC_CARGO_ATUAL\n",
      "0                    PROF.ED.INF.E ENS.FUND.I\n",
      "1                         PROF.DE ED.INFANTIL\n",
      "2             ASSISTENTE DE DIRETOR DE ESCOLA\n",
      "3                      COORDENADOR PEDAGOGICO\n",
      "4                AUXILIAR TECNICO DE EDUCACAO\n",
      "                        ...                  \n",
      "98              ASSISTENTE DE SAUDE - NIVEL I\n",
      "99             PROF.ADJ.ENS.FUND.II-GEOGRAFIA\n",
      "100    GESTOR DE CENTRO EDUCACIONAL UNIFICADO\n",
      "101                   PROF.ADJ.DE ENS.FUND. I\n",
      "102       PROF.ENS.FUND.II E MED.-CONT.CUSTOS\n",
      "Length: 103, dtype: object\n",
      "\n",
      "Coluna: DC_AREA_ATUACAO_ATUAL\n",
      "0            ENSINO FUNDAMENTAL I E INFANTIL\n",
      "1                          EDUCACAO INFANTIL\n",
      "2                         TECNICA PEDAGOGICA\n",
      "3                             ADMINISTRATIVA\n",
      "4                              APOIO TECNICO\n",
      "5                      ENSINO FUNDAMENTAL II\n",
      "6                               ENSINO MEDIO\n",
      "7     ATIV ARTISTICAS CULTURAIS E ESPORTIVAS\n",
      "8                                OPERACIONAL\n",
      "9                                      SAUDE\n",
      "10                       SEM AREA DE ATUACAO\n",
      "11               ASSIT ATIVIDADES ARTISTICAS\n",
      "dtype: object\n",
      "\n",
      "Coluna: TP_UNIDADE_ATUAL\n",
      "0         CEU EMEI\n",
      "1            EMEFM\n",
      "2             EMEI\n",
      "3        CEI DIRET\n",
      "4             EMEF\n",
      "5          CEU CEI\n",
      "6         CEU EMEF\n",
      "7         DIR EDUC\n",
      "8            CEMEI\n",
      "9              CEU\n",
      "10       CEU CEMEI\n",
      "11           COORD\n",
      "12           EMEBS\n",
      "13             SME\n",
      "14           CIEJA\n",
      "15         VIRTUAL\n",
      "16     FORA DE SME\n",
      "17         DIVISAO\n",
      "18            CMCT\n",
      "19          NUCLEO\n",
      "20        OUT-PMSP\n",
      "21        CCI/CIPS\n",
      "22    CEU AT COMPL\n",
      "dtype: object\n"
     ]
    }
   ],
   "source": [
    "for coluna in variaveis_categoricas:\n",
    "    print(f\"\\nColuna: {coluna}\")\n",
    "    print(pd.Series(df_servidores[coluna].unique()))"
   ]
  },
  {
   "cell_type": "markdown",
   "metadata": {},
   "source": [
    "#### Identificamos que a base de dados está levemente corrompida e há um problema de padronização no atributo 'CD_SEXO'. Diante disso, vamos fazer as devidas substituições para corrigir e padronizar os dados."
   ]
  },
  {
   "cell_type": "code",
   "execution_count": 16,
   "metadata": {},
   "outputs": [
    {
     "data": {
      "text/plain": [
       "array(['F', 'M'], dtype=object)"
      ]
     },
     "execution_count": 16,
     "metadata": {},
     "output_type": "execute_result"
    }
   ],
   "source": [
    "substituicoes = {'f': 'F', 'm' : 'M'}\n",
    "df_servidores['CD_SEXO'] = df_servidores['CD_SEXO'].replace(substituicoes)\n",
    "df_servidores['CD_SEXO'].unique()"
   ]
  },
  {
   "cell_type": "code",
   "execution_count": 17,
   "metadata": {},
   "outputs": [
    {
     "data": {
      "text/plain": [
       "array(['BRASIL', 'NIGÉRIA', 'PORTUGAL', 'SEM INFORMAÇÃO', 'ALEMANHA',\n",
       "       'PERU', 'VENEZUELA', 'CHILE', 'ARGENTINA', 'CHINA', 'URUGUAI',\n",
       "       'SAARA ESPANHOL', 'PARAGUAI', 'ESPANHA', 'LÍBANO', 'CUBA', 'JAPÃO',\n",
       "       'SÍRIA', 'RESERVADO', 'BOLÌVIA', 'BOTSUANA', 'ANGOLA',\n",
       "       'COREIA DO SUL', 'COREIA', 'SERRA LEOA',\n",
       "       'BONAIRE, SANTO EUSTÁQUIO E SABA'], dtype=object)"
      ]
     },
     "execution_count": 17,
     "metadata": {},
     "output_type": "execute_result"
    }
   ],
   "source": [
    "substituicoes = {'CORÃƒâ€°IA': 'COREIA', 'NIGÃƒâ€°RIA': 'NIGÉRIA', 'BOLÃƒÂVIA': 'BOLÌVIA', 'LÃƒÂBANO': 'LÍBANO', 'JAPÃƒÆ’O': 'JAPÃO', 'SÃƒÂRIA':'SÍRIA', \n",
    "                 'BONAIRE SAINT EUSTATIUS E SABA': 'BONAIRE, SANTO EUSTÁQUIO E SABA'}\n",
    "\n",
    "df_servidores['DC_PAIS_NASC'] = df_servidores['DC_PAIS_NASC'].replace(substituicoes)\n",
    "df_servidores['DC_PAIS_NASC'] = df_servidores['DC_PAIS_NASC'].fillna('SEM INFORMAÇÃO')\n",
    "df_servidores['DC_PAIS_NASC'].unique()"
   ]
  },
  {
   "cell_type": "code",
   "execution_count": 18,
   "metadata": {},
   "outputs": [
    {
     "data": {
      "text/plain": [
       "array(['POS GRADUACAO LATO SENSU', 'BACHARELADO', 'LICENCIATURA PLENA',\n",
       "       'MAGISTÉRIO', '1. GRAU OU INFERIOR', 'MESTRADO', 'DOUTORADO',\n",
       "       'LICENCIATURA CURTA', 'SEM INFORMAÇÃO'], dtype=object)"
      ]
     },
     "execution_count": 18,
     "metadata": {},
     "output_type": "execute_result"
    }
   ],
   "source": [
    "substituicoes = {'MAGISTÃƒâ€°RIO': 'MAGISTÉRIO', '1Ã‚Âº GRAU OU INFERIOR': '1. GRAU OU INFERIOR'}\n",
    "\n",
    "df_servidores['NIVEL_FORM'] = df_servidores['NIVEL_FORM'].replace(substituicoes)\n",
    "df_servidores['NIVEL_FORM'] = df_servidores['NIVEL_FORM'].fillna('SEM INFORMAÇÃO')\n",
    "df_servidores['NIVEL_FORM'].unique()"
   ]
  },
  {
   "cell_type": "markdown",
   "metadata": {},
   "source": [
    "### Análise exploratória dos servidores que atuam na área da educação infantil"
   ]
  },
  {
   "cell_type": "markdown",
   "metadata": {},
   "source": [
    "#### Primeiramente, criaremos um dataframe somente com os dados dos servidores que atuam nesta área."
   ]
  },
  {
   "cell_type": "code",
   "execution_count": 19,
   "metadata": {},
   "outputs": [
    {
     "data": {
      "text/html": [
       "<div>\n",
       "<style scoped>\n",
       "    .dataframe tbody tr th:only-of-type {\n",
       "        vertical-align: middle;\n",
       "    }\n",
       "\n",
       "    .dataframe tbody tr th {\n",
       "        vertical-align: top;\n",
       "    }\n",
       "\n",
       "    .dataframe thead th {\n",
       "        text-align: right;\n",
       "    }\n",
       "</style>\n",
       "<table border=\"1\" class=\"dataframe\">\n",
       "  <thead>\n",
       "    <tr style=\"text-align: right;\">\n",
       "      <th></th>\n",
       "      <th>MES_NASC</th>\n",
       "      <th>ANO_NASC</th>\n",
       "      <th>CD_SEXO</th>\n",
       "      <th>DC_MUNICIPIO_NASC</th>\n",
       "      <th>UF_MUNICIPIO_NASC</th>\n",
       "      <th>DC_PAIS_NASC</th>\n",
       "      <th>DC_MUNICIPIO_RES</th>\n",
       "      <th>UF_MUNICIPIO_RES</th>\n",
       "      <th>DC_RACA_COR</th>\n",
       "      <th>DC_DEF</th>\n",
       "      <th>NIVEL_FORM</th>\n",
       "      <th>DC_SIT_FUNC</th>\n",
       "      <th>DC_CARGO_BASE</th>\n",
       "      <th>DC_AREA_ATUACAO_BASE</th>\n",
       "      <th>TP_UNIDADE_BASE</th>\n",
       "      <th>DC_CARGO_ATUAL</th>\n",
       "      <th>DC_AREA_ATUACAO_ATUAL</th>\n",
       "      <th>TP_UNIDADE_ATUAL</th>\n",
       "      <th>IDADE_ATUALIZADA</th>\n",
       "    </tr>\n",
       "  </thead>\n",
       "  <tbody>\n",
       "    <tr>\n",
       "      <th>4</th>\n",
       "      <td>3</td>\n",
       "      <td>1984</td>\n",
       "      <td>F</td>\n",
       "      <td>SEM INFORMAÇÃO</td>\n",
       "      <td>SEM INFORMAÇÃO</td>\n",
       "      <td>BRASIL</td>\n",
       "      <td>SAO PAULO</td>\n",
       "      <td>SP</td>\n",
       "      <td>NAO INFORMADA</td>\n",
       "      <td>NAO POSSUI</td>\n",
       "      <td>POS GRADUACAO LATO SENSU</td>\n",
       "      <td>EFETIVO</td>\n",
       "      <td>PROF.DE ED.INFANTIL</td>\n",
       "      <td>EDUCACAO INFANTIL</td>\n",
       "      <td>CEI DIRET</td>\n",
       "      <td>PROF.DE ED.INFANTIL</td>\n",
       "      <td>EDUCACAO INFANTIL</td>\n",
       "      <td>CEI DIRET</td>\n",
       "      <td>41</td>\n",
       "    </tr>\n",
       "    <tr>\n",
       "      <th>12</th>\n",
       "      <td>8</td>\n",
       "      <td>1978</td>\n",
       "      <td>F</td>\n",
       "      <td>SAO PAULO</td>\n",
       "      <td>SP</td>\n",
       "      <td>BRASIL</td>\n",
       "      <td>SAO PAULO</td>\n",
       "      <td>SP</td>\n",
       "      <td>NAO INFORMADA</td>\n",
       "      <td>NAO POSSUI</td>\n",
       "      <td>POS GRADUACAO LATO SENSU</td>\n",
       "      <td>EFETIVO</td>\n",
       "      <td>PROF.DE ED.INFANTIL</td>\n",
       "      <td>EDUCACAO INFANTIL</td>\n",
       "      <td>CEU CEI</td>\n",
       "      <td>PROF.DE ED.INFANTIL</td>\n",
       "      <td>EDUCACAO INFANTIL</td>\n",
       "      <td>CEU CEI</td>\n",
       "      <td>46</td>\n",
       "    </tr>\n",
       "    <tr>\n",
       "      <th>33</th>\n",
       "      <td>7</td>\n",
       "      <td>1984</td>\n",
       "      <td>F</td>\n",
       "      <td>SAO PAULO</td>\n",
       "      <td>SP</td>\n",
       "      <td>BRASIL</td>\n",
       "      <td>SAO PAULO</td>\n",
       "      <td>SP</td>\n",
       "      <td>NAO INFORMADA</td>\n",
       "      <td>NAO POSSUI</td>\n",
       "      <td>POS GRADUACAO LATO SENSU</td>\n",
       "      <td>EFETIVO</td>\n",
       "      <td>PROF.DE ED.INFANTIL</td>\n",
       "      <td>EDUCACAO INFANTIL</td>\n",
       "      <td>CEI DIRET</td>\n",
       "      <td>PROF.DE ED.INFANTIL</td>\n",
       "      <td>EDUCACAO INFANTIL</td>\n",
       "      <td>CEI DIRET</td>\n",
       "      <td>40</td>\n",
       "    </tr>\n",
       "    <tr>\n",
       "      <th>40</th>\n",
       "      <td>1</td>\n",
       "      <td>1974</td>\n",
       "      <td>F</td>\n",
       "      <td>SAO PAULO</td>\n",
       "      <td>SP</td>\n",
       "      <td>BRASIL</td>\n",
       "      <td>SAO PAULO</td>\n",
       "      <td>SP</td>\n",
       "      <td>NAO INFORMADA</td>\n",
       "      <td>NAO POSSUI</td>\n",
       "      <td>POS GRADUACAO LATO SENSU</td>\n",
       "      <td>EFETIVO</td>\n",
       "      <td>PROF.DE ED.INFANTIL</td>\n",
       "      <td>EDUCACAO INFANTIL</td>\n",
       "      <td>CEI DIRET</td>\n",
       "      <td>PROF.DE ED.INFANTIL</td>\n",
       "      <td>EDUCACAO INFANTIL</td>\n",
       "      <td>CEI DIRET</td>\n",
       "      <td>51</td>\n",
       "    </tr>\n",
       "    <tr>\n",
       "      <th>44</th>\n",
       "      <td>2</td>\n",
       "      <td>1984</td>\n",
       "      <td>F</td>\n",
       "      <td>EMBU DAS ARTES</td>\n",
       "      <td>SP</td>\n",
       "      <td>BRASIL</td>\n",
       "      <td>SAO PAULO</td>\n",
       "      <td>SP</td>\n",
       "      <td>NAO INFORMADA</td>\n",
       "      <td>NAO POSSUI</td>\n",
       "      <td>POS GRADUACAO LATO SENSU</td>\n",
       "      <td>EFETIVO</td>\n",
       "      <td>PROF.DE ED.INFANTIL</td>\n",
       "      <td>EDUCACAO INFANTIL</td>\n",
       "      <td>CEMEI</td>\n",
       "      <td>PROF.DE ED.INFANTIL</td>\n",
       "      <td>EDUCACAO INFANTIL</td>\n",
       "      <td>CEMEI</td>\n",
       "      <td>41</td>\n",
       "    </tr>\n",
       "  </tbody>\n",
       "</table>\n",
       "</div>"
      ],
      "text/plain": [
       "    MES_NASC  ANO_NASC CD_SEXO DC_MUNICIPIO_NASC UF_MUNICIPIO_NASC  \\\n",
       "4          3      1984       F    SEM INFORMAÇÃO    SEM INFORMAÇÃO   \n",
       "12         8      1978       F         SAO PAULO                SP   \n",
       "33         7      1984       F         SAO PAULO                SP   \n",
       "40         1      1974       F         SAO PAULO                SP   \n",
       "44         2      1984       F    EMBU DAS ARTES                SP   \n",
       "\n",
       "   DC_PAIS_NASC DC_MUNICIPIO_RES UF_MUNICIPIO_RES    DC_RACA_COR      DC_DEF  \\\n",
       "4        BRASIL        SAO PAULO               SP  NAO INFORMADA  NAO POSSUI   \n",
       "12       BRASIL        SAO PAULO               SP  NAO INFORMADA  NAO POSSUI   \n",
       "33       BRASIL        SAO PAULO               SP  NAO INFORMADA  NAO POSSUI   \n",
       "40       BRASIL        SAO PAULO               SP  NAO INFORMADA  NAO POSSUI   \n",
       "44       BRASIL        SAO PAULO               SP  NAO INFORMADA  NAO POSSUI   \n",
       "\n",
       "                  NIVEL_FORM DC_SIT_FUNC        DC_CARGO_BASE  \\\n",
       "4   POS GRADUACAO LATO SENSU     EFETIVO  PROF.DE ED.INFANTIL   \n",
       "12  POS GRADUACAO LATO SENSU     EFETIVO  PROF.DE ED.INFANTIL   \n",
       "33  POS GRADUACAO LATO SENSU     EFETIVO  PROF.DE ED.INFANTIL   \n",
       "40  POS GRADUACAO LATO SENSU     EFETIVO  PROF.DE ED.INFANTIL   \n",
       "44  POS GRADUACAO LATO SENSU     EFETIVO  PROF.DE ED.INFANTIL   \n",
       "\n",
       "   DC_AREA_ATUACAO_BASE TP_UNIDADE_BASE       DC_CARGO_ATUAL  \\\n",
       "4     EDUCACAO INFANTIL       CEI DIRET  PROF.DE ED.INFANTIL   \n",
       "12    EDUCACAO INFANTIL         CEU CEI  PROF.DE ED.INFANTIL   \n",
       "33    EDUCACAO INFANTIL       CEI DIRET  PROF.DE ED.INFANTIL   \n",
       "40    EDUCACAO INFANTIL       CEI DIRET  PROF.DE ED.INFANTIL   \n",
       "44    EDUCACAO INFANTIL           CEMEI  PROF.DE ED.INFANTIL   \n",
       "\n",
       "   DC_AREA_ATUACAO_ATUAL TP_UNIDADE_ATUAL  IDADE_ATUALIZADA  \n",
       "4      EDUCACAO INFANTIL        CEI DIRET                41  \n",
       "12     EDUCACAO INFANTIL          CEU CEI                46  \n",
       "33     EDUCACAO INFANTIL        CEI DIRET                40  \n",
       "40     EDUCACAO INFANTIL        CEI DIRET                51  \n",
       "44     EDUCACAO INFANTIL            CEMEI                41  "
      ]
     },
     "metadata": {},
     "output_type": "display_data"
    },
    {
     "data": {
      "text/plain": [
       "(15692, 19)"
      ]
     },
     "metadata": {},
     "output_type": "display_data"
    }
   ],
   "source": [
    "df = df_servidores[df_servidores['DC_AREA_ATUACAO_BASE'] ==  'EDUCACAO INFANTIL']\n",
    "display(df.head())\n",
    "display(df.shape)"
   ]
  },
  {
   "cell_type": "code",
   "execution_count": 20,
   "metadata": {},
   "outputs": [
    {
     "data": {
      "text/html": [
       "<div>\n",
       "<style scoped>\n",
       "    .dataframe tbody tr th:only-of-type {\n",
       "        vertical-align: middle;\n",
       "    }\n",
       "\n",
       "    .dataframe tbody tr th {\n",
       "        vertical-align: top;\n",
       "    }\n",
       "\n",
       "    .dataframe thead th {\n",
       "        text-align: right;\n",
       "    }\n",
       "</style>\n",
       "<table border=\"1\" class=\"dataframe\">\n",
       "  <thead>\n",
       "    <tr style=\"text-align: right;\">\n",
       "      <th></th>\n",
       "      <th>DC_CARGO_ATUAL</th>\n",
       "      <th>proportion</th>\n",
       "    </tr>\n",
       "  </thead>\n",
       "  <tbody>\n",
       "    <tr>\n",
       "      <th>0</th>\n",
       "      <td>PROF.DE ED.INFANTIL</td>\n",
       "      <td>0.961127</td>\n",
       "    </tr>\n",
       "    <tr>\n",
       "      <th>1</th>\n",
       "      <td>ASSISTENTE DE DIRETOR DE ESCOLA</td>\n",
       "      <td>0.019819</td>\n",
       "    </tr>\n",
       "    <tr>\n",
       "      <th>2</th>\n",
       "      <td>COORDENADOR PEDAGOGICO</td>\n",
       "      <td>0.006564</td>\n",
       "    </tr>\n",
       "    <tr>\n",
       "      <th>3</th>\n",
       "      <td>ASSISTENTE TECNICO DE EDUCACAO I</td>\n",
       "      <td>0.005863</td>\n",
       "    </tr>\n",
       "    <tr>\n",
       "      <th>4</th>\n",
       "      <td>AUXILIAR DE DESENVOLVIMENTO INFANTIL</td>\n",
       "      <td>0.002677</td>\n",
       "    </tr>\n",
       "    <tr>\n",
       "      <th>5</th>\n",
       "      <td>DIRETOR DE ESCOLA</td>\n",
       "      <td>0.002167</td>\n",
       "    </tr>\n",
       "    <tr>\n",
       "      <th>6</th>\n",
       "      <td>GESTOR DE EQUIPAMENTO PUBLICO II</td>\n",
       "      <td>0.000574</td>\n",
       "    </tr>\n",
       "    <tr>\n",
       "      <th>7</th>\n",
       "      <td>DIRETOR I</td>\n",
       "      <td>0.000319</td>\n",
       "    </tr>\n",
       "    <tr>\n",
       "      <th>8</th>\n",
       "      <td>CHEFE DE NUCLEO DE ACAO EDUCACIONAL</td>\n",
       "      <td>0.000255</td>\n",
       "    </tr>\n",
       "    <tr>\n",
       "      <th>9</th>\n",
       "      <td>ASSESSOR II</td>\n",
       "      <td>0.000255</td>\n",
       "    </tr>\n",
       "    <tr>\n",
       "      <th>10</th>\n",
       "      <td>ASSISTENTE TECNICO EDUCACIONAL</td>\n",
       "      <td>0.000191</td>\n",
       "    </tr>\n",
       "    <tr>\n",
       "      <th>11</th>\n",
       "      <td>ASSESSOR III</td>\n",
       "      <td>0.000127</td>\n",
       "    </tr>\n",
       "    <tr>\n",
       "      <th>12</th>\n",
       "      <td>SUPERVISOR ESCOLAR</td>\n",
       "      <td>0.000064</td>\n",
       "    </tr>\n",
       "  </tbody>\n",
       "</table>\n",
       "</div>"
      ],
      "text/plain": [
       "                          DC_CARGO_ATUAL  proportion\n",
       "0                    PROF.DE ED.INFANTIL    0.961127\n",
       "1        ASSISTENTE DE DIRETOR DE ESCOLA    0.019819\n",
       "2                 COORDENADOR PEDAGOGICO    0.006564\n",
       "3       ASSISTENTE TECNICO DE EDUCACAO I    0.005863\n",
       "4   AUXILIAR DE DESENVOLVIMENTO INFANTIL    0.002677\n",
       "5                      DIRETOR DE ESCOLA    0.002167\n",
       "6       GESTOR DE EQUIPAMENTO PUBLICO II    0.000574\n",
       "7                              DIRETOR I    0.000319\n",
       "8    CHEFE DE NUCLEO DE ACAO EDUCACIONAL    0.000255\n",
       "9                            ASSESSOR II    0.000255\n",
       "10        ASSISTENTE TECNICO EDUCACIONAL    0.000191\n",
       "11                          ASSESSOR III    0.000127\n",
       "12                    SUPERVISOR ESCOLAR    0.000064"
      ]
     },
     "execution_count": 20,
     "metadata": {},
     "output_type": "execute_result"
    }
   ],
   "source": [
    "df[df['DC_AREA_ATUACAO_BASE'] == 'EDUCACAO INFANTIL']['DC_CARGO_ATUAL'].value_counts(normalize=True).reset_index()"
   ]
  },
  {
   "cell_type": "code",
   "execution_count": 21,
   "metadata": {},
   "outputs": [
    {
     "data": {
      "text/html": [
       "<div>\n",
       "<style scoped>\n",
       "    .dataframe tbody tr th:only-of-type {\n",
       "        vertical-align: middle;\n",
       "    }\n",
       "\n",
       "    .dataframe tbody tr th {\n",
       "        vertical-align: top;\n",
       "    }\n",
       "\n",
       "    .dataframe thead th {\n",
       "        text-align: right;\n",
       "    }\n",
       "</style>\n",
       "<table border=\"1\" class=\"dataframe\">\n",
       "  <thead>\n",
       "    <tr style=\"text-align: right;\">\n",
       "      <th></th>\n",
       "      <th>DC_CARGO_BASE</th>\n",
       "      <th>proportion</th>\n",
       "    </tr>\n",
       "  </thead>\n",
       "  <tbody>\n",
       "    <tr>\n",
       "      <th>0</th>\n",
       "      <td>PROF.DE ED.INFANTIL</td>\n",
       "      <td>0.997323</td>\n",
       "    </tr>\n",
       "    <tr>\n",
       "      <th>1</th>\n",
       "      <td>AUXILIAR DE DESENVOLVIMENTO INFANTIL</td>\n",
       "      <td>0.002677</td>\n",
       "    </tr>\n",
       "  </tbody>\n",
       "</table>\n",
       "</div>"
      ],
      "text/plain": [
       "                          DC_CARGO_BASE  proportion\n",
       "0                   PROF.DE ED.INFANTIL    0.997323\n",
       "1  AUXILIAR DE DESENVOLVIMENTO INFANTIL    0.002677"
      ]
     },
     "execution_count": 21,
     "metadata": {},
     "output_type": "execute_result"
    }
   ],
   "source": [
    "df[df['DC_AREA_ATUACAO_BASE'] == 'EDUCACAO INFANTIL']['DC_CARGO_BASE'].value_counts(normalize=True).reset_index()"
   ]
  },
  {
   "cell_type": "markdown",
   "metadata": {},
   "source": [
    "#### Analisando as variáveis \"DC_CARGO_ATUAL\" E \"DC_CARGO_BASE\", descobrimos que a maioria esmagadora de servidores da área da educação infantil atuam como professores, e que uma porcentagem muito pequena deles muda de cargo ao longo da carreira. Os dados nos mostram que 99,7% dos servidores ingressam na área da educação infantil como professores, e que 96% ocupam este cargo atualmente. "
   ]
  },
  {
   "cell_type": "markdown",
   "metadata": {},
   "source": [
    "## Perfil demográfico"
   ]
  },
  {
   "cell_type": "markdown",
   "metadata": {},
   "source": [
    "### Distribuição de servidores por gênero"
   ]
  },
  {
   "cell_type": "code",
   "execution_count": 22,
   "metadata": {},
   "outputs": [
    {
     "name": "stderr",
     "output_type": "stream",
     "text": [
      "/tmp/ipykernel_4851/4176138081.py:1: FutureWarning: \n",
      "\n",
      "Passing `palette` without assigning `hue` is deprecated and will be removed in v0.14.0. Assign the `x` variable to `hue` and set `legend=False` for the same effect.\n",
      "\n",
      "  sns.countplot(data = df, x = 'CD_SEXO', palette = 'ocean')\n"
     ]
    },
    {
     "data": {
      "image/png": "[encoded data removed]",
      "text/plain": [
       "<Figure size 640x480 with 1 Axes>"
      ]
     },
     "metadata": {},
     "output_type": "display_data"
    }
   ],
   "source": [
    "sns.countplot(data = df, x = 'CD_SEXO', palette = 'ocean')\n",
    "plt.title('Distribuição por gênero')\n",
    "plt.xlabel('')\n",
    "plt.ylabel('')\n",
    "plt.show();\n"
   ]
  },
  {
   "cell_type": "markdown",
   "metadata": {},
   "source": [
    "#### Como observado, a maioria esmagadora dos servidores da educação infantil no estado de São Paulo são do gênero feminino."
   ]
  },
  {
   "cell_type": "code",
   "execution_count": 23,
   "metadata": {},
   "outputs": [
    {
     "data": {
      "text/html": [
       "<div>\n",
       "<style scoped>\n",
       "    .dataframe tbody tr th:only-of-type {\n",
       "        vertical-align: middle;\n",
       "    }\n",
       "\n",
       "    .dataframe tbody tr th {\n",
       "        vertical-align: top;\n",
       "    }\n",
       "\n",
       "    .dataframe thead th {\n",
       "        text-align: right;\n",
       "    }\n",
       "</style>\n",
       "<table border=\"1\" class=\"dataframe\">\n",
       "  <thead>\n",
       "    <tr style=\"text-align: right;\">\n",
       "      <th></th>\n",
       "      <th>DC_PAIS_NASC</th>\n",
       "      <th>Quantidade</th>\n",
       "    </tr>\n",
       "  </thead>\n",
       "  <tbody>\n",
       "    <tr>\n",
       "      <th>0</th>\n",
       "      <td>BRASIL</td>\n",
       "      <td>15679</td>\n",
       "    </tr>\n",
       "    <tr>\n",
       "      <th>1</th>\n",
       "      <td>SEM INFORMAÇÃO</td>\n",
       "      <td>8</td>\n",
       "    </tr>\n",
       "    <tr>\n",
       "      <th>2</th>\n",
       "      <td>PERU</td>\n",
       "      <td>2</td>\n",
       "    </tr>\n",
       "    <tr>\n",
       "      <th>3</th>\n",
       "      <td>VENEZUELA</td>\n",
       "      <td>1</td>\n",
       "    </tr>\n",
       "    <tr>\n",
       "      <th>4</th>\n",
       "      <td>CHILE</td>\n",
       "      <td>1</td>\n",
       "    </tr>\n",
       "    <tr>\n",
       "      <th>5</th>\n",
       "      <td>URUGUAI</td>\n",
       "      <td>1</td>\n",
       "    </tr>\n",
       "  </tbody>\n",
       "</table>\n",
       "</div>"
      ],
      "text/plain": [
       "     DC_PAIS_NASC  Quantidade\n",
       "0          BRASIL       15679\n",
       "1  SEM INFORMAÇÃO           8\n",
       "2            PERU           2\n",
       "3       VENEZUELA           1\n",
       "4           CHILE           1\n",
       "5         URUGUAI           1"
      ]
     },
     "execution_count": 23,
     "metadata": {},
     "output_type": "execute_result"
    }
   ],
   "source": [
    "df_nacionalidade = df['DC_PAIS_NASC'].value_counts().reset_index(name = 'Quantidade')\n",
    "df_nacionalidade"
   ]
  },
  {
   "cell_type": "code",
   "execution_count": 24,
   "metadata": {},
   "outputs": [
    {
     "data": {
      "text/plain": [
       "0.08"
      ]
     },
     "execution_count": 24,
     "metadata": {},
     "output_type": "execute_result"
    }
   ],
   "source": [
    "df_nacionalidade_estrageira = df_nacionalidade.query(\"DC_PAIS_NASC != 'BRASIL'\")\n",
    "percentual_estrangeiros = round((df_nacionalidade_estrageira['Quantidade'].sum() / df_nacionalidade['Quantidade'].sum()) * 100, 2)\n",
    "percentual_estrangeiros"
   ]
  },
  {
   "cell_type": "markdown",
   "metadata": {},
   "source": [
    "#### E quantidade de servidores estrangeiros é praticamente irrelevante, correspondendo a 0,08% do total."
   ]
  },
  {
   "cell_type": "code",
   "execution_count": 25,
   "metadata": {},
   "outputs": [
    {
     "name": "stderr",
     "output_type": "stream",
     "text": [
      "/tmp/ipykernel_4851/2910218360.py:3: FutureWarning: \n",
      "\n",
      "Passing `palette` without assigning `hue` is deprecated and will be removed in v0.14.0. Assign the `x` variable to `hue` and set `legend=False` for the same effect.\n",
      "\n",
      "  sns.countplot(data = df, x = 'DC_RACA_COR', palette = 'ocean', order = ordem)\n"
     ]
    },
    {
     "data": {
      "image/png": "[encoded data removed]",
      "text/plain": [
       "<Figure size 1000x600 with 1 Axes>"
      ]
     },
     "metadata": {},
     "output_type": "display_data"
    }
   ],
   "source": [
    "ordem = df['DC_RACA_COR'].value_counts().sort_values(ascending=False).index\n",
    "plt.figure(figsize = (10,6))\n",
    "sns.countplot(data = df, x = 'DC_RACA_COR', palette = 'ocean', order = ordem)\n",
    "plt.title('Distribuição por etnia/cor')\n",
    "plt.xticks(rotation=45)\n",
    "plt.xlabel('')\n",
    "plt.ylabel('')\n",
    "plt.show();"
   ]
  },
  {
   "cell_type": "markdown",
   "metadata": {},
   "source": [
    "#### Infelizmente, existe uma quantidade grande de servidores que não informou a cor/etnia, o que prejudica um pouco a análise deste atributo. Porém, daqueles que responderam, obervamos que predominam os que se autodeclararam brancos e negros (pretos e pardos)."
   ]
  },
  {
   "cell_type": "code",
   "execution_count": 26,
   "metadata": {},
   "outputs": [
    {
     "data": {
      "text/html": [
       "<div>\n",
       "<style scoped>\n",
       "    .dataframe tbody tr th:only-of-type {\n",
       "        vertical-align: middle;\n",
       "    }\n",
       "\n",
       "    .dataframe tbody tr th {\n",
       "        vertical-align: top;\n",
       "    }\n",
       "\n",
       "    .dataframe thead th {\n",
       "        text-align: right;\n",
       "    }\n",
       "</style>\n",
       "<table border=\"1\" class=\"dataframe\">\n",
       "  <thead>\n",
       "    <tr style=\"text-align: right;\">\n",
       "      <th></th>\n",
       "      <th>Deficiência</th>\n",
       "      <th>Quantidade</th>\n",
       "    </tr>\n",
       "  </thead>\n",
       "  <tbody>\n",
       "    <tr>\n",
       "      <th>0</th>\n",
       "      <td>NAO POSSUI</td>\n",
       "      <td>15664</td>\n",
       "    </tr>\n",
       "    <tr>\n",
       "      <th>1</th>\n",
       "      <td>DEFIC. FISICA NAO CADEIRANTE</td>\n",
       "      <td>10</td>\n",
       "    </tr>\n",
       "    <tr>\n",
       "      <th>2</th>\n",
       "      <td>BAIXA VISAO OU VISAO SUBNORMAL</td>\n",
       "      <td>9</td>\n",
       "    </tr>\n",
       "    <tr>\n",
       "      <th>3</th>\n",
       "      <td>SURDEZ LEVE/MODERADA</td>\n",
       "      <td>4</td>\n",
       "    </tr>\n",
       "    <tr>\n",
       "      <th>4</th>\n",
       "      <td>SURDEZ SEVERA/PROFUNDA</td>\n",
       "      <td>2</td>\n",
       "    </tr>\n",
       "    <tr>\n",
       "      <th>5</th>\n",
       "      <td>DEFICIENCIA MULTIPLA</td>\n",
       "      <td>1</td>\n",
       "    </tr>\n",
       "    <tr>\n",
       "      <th>6</th>\n",
       "      <td>CEGUEIRA</td>\n",
       "      <td>1</td>\n",
       "    </tr>\n",
       "    <tr>\n",
       "      <th>7</th>\n",
       "      <td>AUTISMO</td>\n",
       "      <td>1</td>\n",
       "    </tr>\n",
       "  </tbody>\n",
       "</table>\n",
       "</div>"
      ],
      "text/plain": [
       "                      Deficiência  Quantidade\n",
       "0                      NAO POSSUI       15664\n",
       "1    DEFIC. FISICA NAO CADEIRANTE          10\n",
       "2  BAIXA VISAO OU VISAO SUBNORMAL           9\n",
       "3            SURDEZ LEVE/MODERADA           4\n",
       "4          SURDEZ SEVERA/PROFUNDA           2\n",
       "5            DEFICIENCIA MULTIPLA           1\n",
       "6                        CEGUEIRA           1\n",
       "7                         AUTISMO           1"
      ]
     },
     "execution_count": 26,
     "metadata": {},
     "output_type": "execute_result"
    }
   ],
   "source": [
    "df_deficiencia = df['DC_DEF'].value_counts(dropna = False).reset_index() #transforma a Series em um DataFrame\n",
    "df_deficiencia.columns = ['Deficiência', 'Quantidade']\n",
    "df_deficiencia"
   ]
  },
  {
   "cell_type": "code",
   "execution_count": 27,
   "metadata": {},
   "outputs": [
    {
     "data": {
      "text/plain": [
       "0.18"
      ]
     },
     "execution_count": 27,
     "metadata": {},
     "output_type": "execute_result"
    }
   ],
   "source": [
    "df_pcd = df_deficiencia.query(\"Deficiência != 'NAO POSSUI'\")\n",
    "percentual_pcd = round((df_pcd['Quantidade'].sum() / df_deficiencia['Quantidade'].sum()) * 100, 2)\n",
    "percentual_pcd"
   ]
  },
  {
   "cell_type": "markdown",
   "metadata": {},
   "source": [
    "#### O percentual de servidores da educação infantil que se autodeclararam portadores de deficiência é muito pequena, correspondendo a 0,18% do total."
   ]
  },
  {
   "cell_type": "code",
   "execution_count": 28,
   "metadata": {},
   "outputs": [
    {
     "data": {
      "text/html": [
       "<div>\n",
       "<style scoped>\n",
       "    .dataframe tbody tr th:only-of-type {\n",
       "        vertical-align: middle;\n",
       "    }\n",
       "\n",
       "    .dataframe tbody tr th {\n",
       "        vertical-align: top;\n",
       "    }\n",
       "\n",
       "    .dataframe thead th {\n",
       "        text-align: right;\n",
       "    }\n",
       "</style>\n",
       "<table border=\"1\" class=\"dataframe\">\n",
       "  <thead>\n",
       "    <tr style=\"text-align: right;\">\n",
       "      <th></th>\n",
       "      <th>Situação funcional</th>\n",
       "      <th>Quantidade</th>\n",
       "    </tr>\n",
       "  </thead>\n",
       "  <tbody>\n",
       "    <tr>\n",
       "      <th>0</th>\n",
       "      <td>EFETIVO</td>\n",
       "      <td>0.915944</td>\n",
       "    </tr>\n",
       "    <tr>\n",
       "      <th>1</th>\n",
       "      <td>CONTRATADO</td>\n",
       "      <td>0.083546</td>\n",
       "    </tr>\n",
       "    <tr>\n",
       "      <th>2</th>\n",
       "      <td>ADMITIDO</td>\n",
       "      <td>0.000319</td>\n",
       "    </tr>\n",
       "    <tr>\n",
       "      <th>3</th>\n",
       "      <td>ADMIT. ESTAVEL</td>\n",
       "      <td>0.000191</td>\n",
       "    </tr>\n",
       "  </tbody>\n",
       "</table>\n",
       "</div>"
      ],
      "text/plain": [
       "  Situação funcional  Quantidade\n",
       "0            EFETIVO    0.915944\n",
       "1         CONTRATADO    0.083546\n",
       "2           ADMITIDO    0.000319\n",
       "3     ADMIT. ESTAVEL    0.000191"
      ]
     },
     "execution_count": 28,
     "metadata": {},
     "output_type": "execute_result"
    }
   ],
   "source": [
    "df_funcao = df['DC_SIT_FUNC'].value_counts(dropna = False, normalize=True).reset_index() \n",
    "df_funcao.columns = ['Situação funcional', 'Quantidade']\n",
    "df_funcao"
   ]
  },
  {
   "cell_type": "markdown",
   "metadata": {},
   "source": [
    "#### 91,6% dos servidores são efetivos, ou seja, foram aprovados em concurso público, nomeados e tomaram posse permanentemente na administração pública."
   ]
  },
  {
   "cell_type": "code",
   "execution_count": 29,
   "metadata": {},
   "outputs": [
    {
     "name": "stderr",
     "output_type": "stream",
     "text": [
      "/tmp/ipykernel_4851/1992246487.py:2: FutureWarning: \n",
      "\n",
      "Passing `palette` without assigning `hue` is deprecated and will be removed in v0.14.0. Assign the `y` variable to `hue` and set `legend=False` for the same effect.\n",
      "\n",
      "  sns.countplot(data =  df, y = 'NIVEL_FORM', palette = 'ocean')\n"
     ]
    },
    {
     "data": {
      "image/png": "[encoded data removed]",
      "text/plain": [
       "<Figure size 1000x600 with 1 Axes>"
      ]
     },
     "metadata": {},
     "output_type": "display_data"
    }
   ],
   "source": [
    "plt.figure(figsize = (10,6))\n",
    "sns.countplot(data =  df, y = 'NIVEL_FORM', palette = 'ocean')\n",
    "plt.title('Distribuição por nível de formação do servidor')\n",
    "plt.xticks(rotation=45)\n",
    "plt.xlabel('')\n",
    "plt.ylabel('')\n",
    "plt.show();"
   ]
  },
  {
   "cell_type": "code",
   "execution_count": 30,
   "metadata": {},
   "outputs": [
    {
     "data": {
      "image/png": "[encoded data removed]",
      "text/plain": [
       "<Figure size 640x480 with 1 Axes>"
      ]
     },
     "metadata": {},
     "output_type": "display_data"
    }
   ],
   "source": [
    "sns.histplot(data=df, x='IDADE_ATUALIZADA', bins=20)\n",
    "\n",
    "plt.title('Distribuição de idades')\n",
    "plt.xlabel('Idade')\n",
    "plt.ylabel('')\n",
    "plt.show()"
   ]
  },
  {
   "cell_type": "code",
   "execution_count": 48,
   "metadata": {},
   "outputs": [
    {
     "data": {
      "text/html": [
       "<div>\n",
       "<style scoped>\n",
       "    .dataframe tbody tr th:only-of-type {\n",
       "        vertical-align: middle;\n",
       "    }\n",
       "\n",
       "    .dataframe tbody tr th {\n",
       "        vertical-align: top;\n",
       "    }\n",
       "\n",
       "    .dataframe thead th {\n",
       "        text-align: right;\n",
       "    }\n",
       "</style>\n",
       "<table border=\"1\" class=\"dataframe\">\n",
       "  <thead>\n",
       "    <tr style=\"text-align: right;\">\n",
       "      <th></th>\n",
       "      <th>index</th>\n",
       "      <th>IDADE_ATUALIZADA</th>\n",
       "    </tr>\n",
       "  </thead>\n",
       "  <tbody>\n",
       "    <tr>\n",
       "      <th>0</th>\n",
       "      <td>mean</td>\n",
       "      <td>47.727759</td>\n",
       "    </tr>\n",
       "    <tr>\n",
       "      <th>1</th>\n",
       "      <td>max</td>\n",
       "      <td>76.000000</td>\n",
       "    </tr>\n",
       "    <tr>\n",
       "      <th>2</th>\n",
       "      <td>min</td>\n",
       "      <td>25.000000</td>\n",
       "    </tr>\n",
       "    <tr>\n",
       "      <th>3</th>\n",
       "      <td>median</td>\n",
       "      <td>47.000000</td>\n",
       "    </tr>\n",
       "  </tbody>\n",
       "</table>\n",
       "</div>"
      ],
      "text/plain": [
       "    index  IDADE_ATUALIZADA\n",
       "0    mean         47.727759\n",
       "1     max         76.000000\n",
       "2     min         25.000000\n",
       "3  median         47.000000"
      ]
     },
     "execution_count": 48,
     "metadata": {},
     "output_type": "execute_result"
    }
   ],
   "source": [
    "df['IDADE_ATUALIZADA'].agg(['mean', 'max', 'min', 'median']).reset_index()"
   ]
  },
  {
   "cell_type": "markdown",
   "metadata": {},
   "source": [
    "#### A maior parte dos servidores tem entre 40 e 50 anos e a idade média é 47 anos."
   ]
  },
  {
   "cell_type": "code",
   "execution_count": 31,
   "metadata": {},
   "outputs": [
    {
     "data": {
      "image/png": "[encoded data removed]",
      "text/plain": [
       "<Figure size 1200x1000 with 1 Axes>"
      ]
     },
     "metadata": {},
     "output_type": "display_data"
    }
   ],
   "source": [
    "plt.figure(figsize=(12,10))\n",
    "sns.boxplot(data = df, y = 'IDADE_ATUALIZADA', hue = 'CD_SEXO', palette='ocean')\n",
    "plt.title('Distribuição de idades por gênero')\n",
    "plt.xlabel('')\n",
    "plt.ylabel('')\n",
    "plt.show()\n"
   ]
  },
  {
   "cell_type": "markdown",
   "metadata": {},
   "source": [
    "#### Os gráficos de caixa nos informam que os servidores mais jovens e mais velhos são do gênero feminino."
   ]
  },
  {
   "cell_type": "code",
   "execution_count": 32,
   "metadata": {},
   "outputs": [
    {
     "data": {
      "text/html": [
       "<div>\n",
       "<style scoped>\n",
       "    .dataframe tbody tr th:only-of-type {\n",
       "        vertical-align: middle;\n",
       "    }\n",
       "\n",
       "    .dataframe tbody tr th {\n",
       "        vertical-align: top;\n",
       "    }\n",
       "\n",
       "    .dataframe thead th {\n",
       "        text-align: right;\n",
       "    }\n",
       "</style>\n",
       "<table border=\"1\" class=\"dataframe\">\n",
       "  <thead>\n",
       "    <tr style=\"text-align: right;\">\n",
       "      <th></th>\n",
       "      <th>Nível de formação das mulheres</th>\n",
       "      <th>Proporção</th>\n",
       "    </tr>\n",
       "  </thead>\n",
       "  <tbody>\n",
       "    <tr>\n",
       "      <th>0</th>\n",
       "      <td>POS GRADUACAO LATO SENSU</td>\n",
       "      <td>0.613558</td>\n",
       "    </tr>\n",
       "    <tr>\n",
       "      <th>1</th>\n",
       "      <td>LICENCIATURA PLENA</td>\n",
       "      <td>0.347435</td>\n",
       "    </tr>\n",
       "    <tr>\n",
       "      <th>2</th>\n",
       "      <td>MAGISTÉRIO</td>\n",
       "      <td>0.029368</td>\n",
       "    </tr>\n",
       "    <tr>\n",
       "      <th>3</th>\n",
       "      <td>MESTRADO</td>\n",
       "      <td>0.004528</td>\n",
       "    </tr>\n",
       "    <tr>\n",
       "      <th>4</th>\n",
       "      <td>1. GRAU OU INFERIOR</td>\n",
       "      <td>0.002458</td>\n",
       "    </tr>\n",
       "    <tr>\n",
       "      <th>5</th>\n",
       "      <td>BACHARELADO</td>\n",
       "      <td>0.001876</td>\n",
       "    </tr>\n",
       "    <tr>\n",
       "      <th>6</th>\n",
       "      <td>DOUTORADO</td>\n",
       "      <td>0.000517</td>\n",
       "    </tr>\n",
       "    <tr>\n",
       "      <th>7</th>\n",
       "      <td>LICENCIATURA CURTA</td>\n",
       "      <td>0.000129</td>\n",
       "    </tr>\n",
       "    <tr>\n",
       "      <th>8</th>\n",
       "      <td>SEM INFORMAÇÃO</td>\n",
       "      <td>0.000129</td>\n",
       "    </tr>\n",
       "  </tbody>\n",
       "</table>\n",
       "</div>"
      ],
      "text/plain": [
       "  Nível de formação das mulheres  Proporção\n",
       "0       POS GRADUACAO LATO SENSU   0.613558\n",
       "1             LICENCIATURA PLENA   0.347435\n",
       "2                     MAGISTÉRIO   0.029368\n",
       "3                       MESTRADO   0.004528\n",
       "4            1. GRAU OU INFERIOR   0.002458\n",
       "5                    BACHARELADO   0.001876\n",
       "6                      DOUTORADO   0.000517\n",
       "7             LICENCIATURA CURTA   0.000129\n",
       "8                 SEM INFORMAÇÃO   0.000129"
      ]
     },
     "execution_count": 32,
     "metadata": {},
     "output_type": "execute_result"
    }
   ],
   "source": [
    "df_frequencia = df[df['CD_SEXO'] == 'F']['NIVEL_FORM'].value_counts(dropna = False, normalize=True).reset_index() \n",
    "df_frequencia.columns = ['Nível de formação das mulheres', 'Proporção']\n",
    "df_frequencia"
   ]
  },
  {
   "cell_type": "code",
   "execution_count": 33,
   "metadata": {},
   "outputs": [
    {
     "data": {
      "text/html": [
       "<div>\n",
       "<style scoped>\n",
       "    .dataframe tbody tr th:only-of-type {\n",
       "        vertical-align: middle;\n",
       "    }\n",
       "\n",
       "    .dataframe tbody tr th {\n",
       "        vertical-align: top;\n",
       "    }\n",
       "\n",
       "    .dataframe thead th {\n",
       "        text-align: right;\n",
       "    }\n",
       "</style>\n",
       "<table border=\"1\" class=\"dataframe\">\n",
       "  <thead>\n",
       "    <tr style=\"text-align: right;\">\n",
       "      <th></th>\n",
       "      <th>Nível de formação dos homens</th>\n",
       "      <th>Proporção</th>\n",
       "    </tr>\n",
       "  </thead>\n",
       "  <tbody>\n",
       "    <tr>\n",
       "      <th>0</th>\n",
       "      <td>POS GRADUACAO LATO SENSU</td>\n",
       "      <td>0.562232</td>\n",
       "    </tr>\n",
       "    <tr>\n",
       "      <th>1</th>\n",
       "      <td>LICENCIATURA PLENA</td>\n",
       "      <td>0.373391</td>\n",
       "    </tr>\n",
       "    <tr>\n",
       "      <th>2</th>\n",
       "      <td>MAGISTÉRIO</td>\n",
       "      <td>0.038627</td>\n",
       "    </tr>\n",
       "    <tr>\n",
       "      <th>3</th>\n",
       "      <td>MESTRADO</td>\n",
       "      <td>0.021459</td>\n",
       "    </tr>\n",
       "    <tr>\n",
       "      <th>4</th>\n",
       "      <td>DOUTORADO</td>\n",
       "      <td>0.004292</td>\n",
       "    </tr>\n",
       "  </tbody>\n",
       "</table>\n",
       "</div>"
      ],
      "text/plain": [
       "  Nível de formação dos homens  Proporção\n",
       "0     POS GRADUACAO LATO SENSU   0.562232\n",
       "1           LICENCIATURA PLENA   0.373391\n",
       "2                   MAGISTÉRIO   0.038627\n",
       "3                     MESTRADO   0.021459\n",
       "4                    DOUTORADO   0.004292"
      ]
     },
     "execution_count": 33,
     "metadata": {},
     "output_type": "execute_result"
    }
   ],
   "source": [
    "df_frequencia = df[df['CD_SEXO'] == 'M']['NIVEL_FORM'].value_counts(dropna = False, normalize=True).reset_index() \n",
    "df_frequencia.columns = ['Nível de formação dos homens', 'Proporção']\n",
    "df_frequencia"
   ]
  },
  {
   "cell_type": "markdown",
   "metadata": {},
   "source": [
    "#### Quando consideramos o gênero na análise do nível de formação, notamos que:\n",
    "* Tanto no caso dos homens quanto no das mulheres, a maior parte dos profissionais da educação básica tem pós-graduação lato sensu (especialização).\n",
    "* Em ambos os gêneros, a segunda formação mais recorrente é a licenciatura plena.\n",
    "* Há uma proporção maior de homens com mestrado (2%) em comparação com as mulheres (0,3%), embora ambas as proporções de servidores com mestrado seja ínfima. O mesmo acontece no caso dos profissionais com doutorado: 0,05% de mulheres e 0,4% de homens."
   ]
  },
  {
   "cell_type": "code",
   "execution_count": 34,
   "metadata": {},
   "outputs": [
    {
     "data": {
      "text/html": [
       "<div>\n",
       "<style scoped>\n",
       "    .dataframe tbody tr th:only-of-type {\n",
       "        vertical-align: middle;\n",
       "    }\n",
       "\n",
       "    .dataframe tbody tr th {\n",
       "        vertical-align: top;\n",
       "    }\n",
       "\n",
       "    .dataframe thead th {\n",
       "        text-align: right;\n",
       "    }\n",
       "</style>\n",
       "<table border=\"1\" class=\"dataframe\">\n",
       "  <thead>\n",
       "    <tr style=\"text-align: right;\">\n",
       "      <th></th>\n",
       "      <th>CD_SEXO</th>\n",
       "      <th>NIVEL_FORM</th>\n",
       "      <th>IDADE_ATUALIZADA</th>\n",
       "    </tr>\n",
       "  </thead>\n",
       "  <tbody>\n",
       "    <tr>\n",
       "      <th>0</th>\n",
       "      <td>F</td>\n",
       "      <td>1. GRAU OU INFERIOR</td>\n",
       "      <td>63.210526</td>\n",
       "    </tr>\n",
       "    <tr>\n",
       "      <th>1</th>\n",
       "      <td>F</td>\n",
       "      <td>BACHARELADO</td>\n",
       "      <td>52.137931</td>\n",
       "    </tr>\n",
       "    <tr>\n",
       "      <th>2</th>\n",
       "      <td>F</td>\n",
       "      <td>DOUTORADO</td>\n",
       "      <td>47.375000</td>\n",
       "    </tr>\n",
       "    <tr>\n",
       "      <th>3</th>\n",
       "      <td>F</td>\n",
       "      <td>LICENCIATURA CURTA</td>\n",
       "      <td>60.000000</td>\n",
       "    </tr>\n",
       "    <tr>\n",
       "      <th>4</th>\n",
       "      <td>F</td>\n",
       "      <td>LICENCIATURA PLENA</td>\n",
       "      <td>46.732638</td>\n",
       "    </tr>\n",
       "    <tr>\n",
       "      <th>5</th>\n",
       "      <td>F</td>\n",
       "      <td>MAGISTÉRIO</td>\n",
       "      <td>48.674009</td>\n",
       "    </tr>\n",
       "    <tr>\n",
       "      <th>6</th>\n",
       "      <td>F</td>\n",
       "      <td>MESTRADO</td>\n",
       "      <td>47.685714</td>\n",
       "    </tr>\n",
       "    <tr>\n",
       "      <th>7</th>\n",
       "      <td>F</td>\n",
       "      <td>POS GRADUACAO LATO SENSU</td>\n",
       "      <td>48.202425</td>\n",
       "    </tr>\n",
       "    <tr>\n",
       "      <th>8</th>\n",
       "      <td>F</td>\n",
       "      <td>SEM INFORMAÇÃO</td>\n",
       "      <td>41.000000</td>\n",
       "    </tr>\n",
       "    <tr>\n",
       "      <th>9</th>\n",
       "      <td>M</td>\n",
       "      <td>DOUTORADO</td>\n",
       "      <td>48.000000</td>\n",
       "    </tr>\n",
       "    <tr>\n",
       "      <th>10</th>\n",
       "      <td>M</td>\n",
       "      <td>LICENCIATURA PLENA</td>\n",
       "      <td>46.977011</td>\n",
       "    </tr>\n",
       "    <tr>\n",
       "      <th>11</th>\n",
       "      <td>M</td>\n",
       "      <td>MAGISTÉRIO</td>\n",
       "      <td>43.888889</td>\n",
       "    </tr>\n",
       "    <tr>\n",
       "      <th>12</th>\n",
       "      <td>M</td>\n",
       "      <td>MESTRADO</td>\n",
       "      <td>41.000000</td>\n",
       "    </tr>\n",
       "    <tr>\n",
       "      <th>13</th>\n",
       "      <td>M</td>\n",
       "      <td>POS GRADUACAO LATO SENSU</td>\n",
       "      <td>46.389313</td>\n",
       "    </tr>\n",
       "  </tbody>\n",
       "</table>\n",
       "</div>"
      ],
      "text/plain": [
       "   CD_SEXO                NIVEL_FORM  IDADE_ATUALIZADA\n",
       "0        F       1. GRAU OU INFERIOR         63.210526\n",
       "1        F               BACHARELADO         52.137931\n",
       "2        F                 DOUTORADO         47.375000\n",
       "3        F        LICENCIATURA CURTA         60.000000\n",
       "4        F        LICENCIATURA PLENA         46.732638\n",
       "5        F                MAGISTÉRIO         48.674009\n",
       "6        F                  MESTRADO         47.685714\n",
       "7        F  POS GRADUACAO LATO SENSU         48.202425\n",
       "8        F            SEM INFORMAÇÃO         41.000000\n",
       "9        M                 DOUTORADO         48.000000\n",
       "10       M        LICENCIATURA PLENA         46.977011\n",
       "11       M                MAGISTÉRIO         43.888889\n",
       "12       M                  MESTRADO         41.000000\n",
       "13       M  POS GRADUACAO LATO SENSU         46.389313"
      ]
     },
     "execution_count": 34,
     "metadata": {},
     "output_type": "execute_result"
    }
   ],
   "source": [
    "df.groupby(['CD_SEXO', 'NIVEL_FORM'])['IDADE_ATUALIZADA'].mean().reset_index()"
   ]
  },
  {
   "cell_type": "markdown",
   "metadata": {},
   "source": [
    "#### As médias de idade de mulheres e homens com pós-graduação lato sensu são muito próximas (48 anos e 46 anos respectivamente), enquanto as mulheres com mestrado costumam ser um pouco mais velhas que os homens (47 anos e 41 anos, respectivamente). Profissionais com apenas o primeio grau ou menos são os mais velhos, apresentando idade média de 63 anos."
   ]
  },
  {
   "cell_type": "markdown",
   "metadata": {},
   "source": [
    "## Estudo dos cargos de liderança na educação básica"
   ]
  },
  {
   "cell_type": "code",
   "execution_count": 35,
   "metadata": {},
   "outputs": [
    {
     "data": {
      "text/html": [
       "<div>\n",
       "<style scoped>\n",
       "    .dataframe tbody tr th:only-of-type {\n",
       "        vertical-align: middle;\n",
       "    }\n",
       "\n",
       "    .dataframe tbody tr th {\n",
       "        vertical-align: top;\n",
       "    }\n",
       "\n",
       "    .dataframe thead th {\n",
       "        text-align: right;\n",
       "    }\n",
       "</style>\n",
       "<table border=\"1\" class=\"dataframe\">\n",
       "  <thead>\n",
       "    <tr style=\"text-align: right;\">\n",
       "      <th></th>\n",
       "      <th>DC_CARGO_ATUAL</th>\n",
       "      <th>count</th>\n",
       "    </tr>\n",
       "  </thead>\n",
       "  <tbody>\n",
       "    <tr>\n",
       "      <th>0</th>\n",
       "      <td>PROF.DE ED.INFANTIL</td>\n",
       "      <td>15082</td>\n",
       "    </tr>\n",
       "    <tr>\n",
       "      <th>1</th>\n",
       "      <td>ASSISTENTE DE DIRETOR DE ESCOLA</td>\n",
       "      <td>311</td>\n",
       "    </tr>\n",
       "    <tr>\n",
       "      <th>2</th>\n",
       "      <td>COORDENADOR PEDAGOGICO</td>\n",
       "      <td>103</td>\n",
       "    </tr>\n",
       "    <tr>\n",
       "      <th>3</th>\n",
       "      <td>ASSISTENTE TECNICO DE EDUCACAO I</td>\n",
       "      <td>92</td>\n",
       "    </tr>\n",
       "    <tr>\n",
       "      <th>4</th>\n",
       "      <td>AUXILIAR DE DESENVOLVIMENTO INFANTIL</td>\n",
       "      <td>42</td>\n",
       "    </tr>\n",
       "    <tr>\n",
       "      <th>5</th>\n",
       "      <td>DIRETOR DE ESCOLA</td>\n",
       "      <td>34</td>\n",
       "    </tr>\n",
       "    <tr>\n",
       "      <th>6</th>\n",
       "      <td>GESTOR DE EQUIPAMENTO PUBLICO II</td>\n",
       "      <td>9</td>\n",
       "    </tr>\n",
       "    <tr>\n",
       "      <th>7</th>\n",
       "      <td>DIRETOR I</td>\n",
       "      <td>5</td>\n",
       "    </tr>\n",
       "    <tr>\n",
       "      <th>8</th>\n",
       "      <td>CHEFE DE NUCLEO DE ACAO EDUCACIONAL</td>\n",
       "      <td>4</td>\n",
       "    </tr>\n",
       "    <tr>\n",
       "      <th>9</th>\n",
       "      <td>ASSESSOR II</td>\n",
       "      <td>4</td>\n",
       "    </tr>\n",
       "    <tr>\n",
       "      <th>10</th>\n",
       "      <td>ASSISTENTE TECNICO EDUCACIONAL</td>\n",
       "      <td>3</td>\n",
       "    </tr>\n",
       "    <tr>\n",
       "      <th>11</th>\n",
       "      <td>ASSESSOR III</td>\n",
       "      <td>2</td>\n",
       "    </tr>\n",
       "    <tr>\n",
       "      <th>12</th>\n",
       "      <td>SUPERVISOR ESCOLAR</td>\n",
       "      <td>1</td>\n",
       "    </tr>\n",
       "  </tbody>\n",
       "</table>\n",
       "</div>"
      ],
      "text/plain": [
       "                          DC_CARGO_ATUAL  count\n",
       "0                    PROF.DE ED.INFANTIL  15082\n",
       "1        ASSISTENTE DE DIRETOR DE ESCOLA    311\n",
       "2                 COORDENADOR PEDAGOGICO    103\n",
       "3       ASSISTENTE TECNICO DE EDUCACAO I     92\n",
       "4   AUXILIAR DE DESENVOLVIMENTO INFANTIL     42\n",
       "5                      DIRETOR DE ESCOLA     34\n",
       "6       GESTOR DE EQUIPAMENTO PUBLICO II      9\n",
       "7                              DIRETOR I      5\n",
       "8    CHEFE DE NUCLEO DE ACAO EDUCACIONAL      4\n",
       "9                            ASSESSOR II      4\n",
       "10        ASSISTENTE TECNICO EDUCACIONAL      3\n",
       "11                          ASSESSOR III      2\n",
       "12                    SUPERVISOR ESCOLAR      1"
      ]
     },
     "execution_count": 35,
     "metadata": {},
     "output_type": "execute_result"
    }
   ],
   "source": [
    "df['DC_CARGO_ATUAL'].value_counts().reset_index()"
   ]
  },
  {
   "cell_type": "markdown",
   "metadata": {},
   "source": [
    "##### Para esta análise, vamos considerar como cargos de liderança os seguintes: \n",
    "* ASSISTENTE DE DIRETOR DE ESCOLA\n",
    "* COORDENADOR PEDAGOGICO\n",
    "* DIRETOR DE ESCOLA\t\n",
    "* CHEFE DE NUCLEO DE ACAO EDUCACIONAL\n",
    "* ASSESSOR II\n",
    "* ASSESSOR III\n",
    "* SUPERVISOR ESCOLAR"
   ]
  },
  {
   "cell_type": "code",
   "execution_count": 36,
   "metadata": {},
   "outputs": [
    {
     "data": {
      "text/plain": [
       "(459, 19)"
      ]
     },
     "execution_count": 36,
     "metadata": {},
     "output_type": "execute_result"
    }
   ],
   "source": [
    "#filtrando o df\n",
    "cargos_lideranca = [\n",
    "    'ASSISTENTE DE DIRETOR DE ESCOLA',\n",
    "    'COORDENADOR PEDAGOGICO',\n",
    "    'DIRETOR DE ESCOLA',\n",
    "    'CHEFE DE NUCLEO DE ACAO EDUCACIONAL',\n",
    "    'ASSESSOR II',\n",
    "    'ASSESSOR III',\n",
    "    'SUPERVISOR ESCOLAR'\n",
    "]\n",
    "\n",
    "df_lideranca = df[df['DC_CARGO_ATUAL'].isin(cargos_lideranca)]\n",
    "df_lideranca.shape"
   ]
  },
  {
   "cell_type": "code",
   "execution_count": 37,
   "metadata": {},
   "outputs": [
    {
     "name": "stdout",
     "output_type": "stream",
     "text": [
      "Existem 459 servidores da educação básica ocupando cargos de liderança, o que representa 2.93% do total de servidores deste segmento.\n"
     ]
    }
   ],
   "source": [
    "print(f'Existem {df_lideranca.shape[0]} servidores da educação básica ocupando cargos de liderança, o que representa {round((len(df_lideranca)/len(df)) * 100, 2)}% do total de servidores deste segmento.')"
   ]
  },
  {
   "cell_type": "markdown",
   "metadata": {},
   "source": [
    "### Qual é a idade predominante dos servidores em cargos de liderança?"
   ]
  },
  {
   "cell_type": "code",
   "execution_count": 38,
   "metadata": {},
   "outputs": [
    {
     "data": {
      "image/png": "[encoded data removed]",
      "text/plain": [
       "<Figure size 640x480 with 1 Axes>"
      ]
     },
     "metadata": {},
     "output_type": "display_data"
    }
   ],
   "source": [
    "sns.histplot(data = df_lideranca, x = 'IDADE_ATUALIZADA', bins = 20)\n",
    "plt.title('Distribuição da idade dos servidores em cargo de liderança')\n",
    "plt.ylabel('')\n",
    "plt.xlabel('Idade')\n",
    "plt.show()"
   ]
  },
  {
   "cell_type": "code",
   "execution_count": 52,
   "metadata": {},
   "outputs": [
    {
     "data": {
      "text/html": [
       "<div>\n",
       "<style scoped>\n",
       "    .dataframe tbody tr th:only-of-type {\n",
       "        vertical-align: middle;\n",
       "    }\n",
       "\n",
       "    .dataframe tbody tr th {\n",
       "        vertical-align: top;\n",
       "    }\n",
       "\n",
       "    .dataframe thead th {\n",
       "        text-align: right;\n",
       "    }\n",
       "</style>\n",
       "<table border=\"1\" class=\"dataframe\">\n",
       "  <thead>\n",
       "    <tr style=\"text-align: right;\">\n",
       "      <th></th>\n",
       "      <th>0</th>\n",
       "      <th>1</th>\n",
       "      <th>2</th>\n",
       "      <th>3</th>\n",
       "    </tr>\n",
       "  </thead>\n",
       "  <tbody>\n",
       "    <tr>\n",
       "      <th>index</th>\n",
       "      <td>mean</td>\n",
       "      <td>median</td>\n",
       "      <td>max</td>\n",
       "      <td>min</td>\n",
       "    </tr>\n",
       "    <tr>\n",
       "      <th>IDADE_ATUALIZADA</th>\n",
       "      <td>46.936819</td>\n",
       "      <td>46.0</td>\n",
       "      <td>69.0</td>\n",
       "      <td>32.0</td>\n",
       "    </tr>\n",
       "  </tbody>\n",
       "</table>\n",
       "</div>"
      ],
      "text/plain": [
       "                          0       1     2     3\n",
       "index                  mean  median   max   min\n",
       "IDADE_ATUALIZADA  46.936819    46.0  69.0  32.0"
      ]
     },
     "execution_count": 52,
     "metadata": {},
     "output_type": "execute_result"
    }
   ],
   "source": [
    "df_lideranca['IDADE_ATUALIZADA'].agg(['mean', 'median', 'max', 'min']).reset_index().T"
   ]
  },
  {
   "cell_type": "markdown",
   "metadata": {},
   "source": [
    "#### Ao analisarmos a idade dos servidores em cargos de liderança na área da educação infantil, descobrimos as seguintes informações:\n",
    "* O servidor mais novo em cargo de liderança tem 32 anos, enquanto o mais velho tem 69 anos.\n",
    "* A idade média é 47 anos, mas, embora a maior parte tenha essa idade, há uma quantidade significativa de servidores com quarenta e poucos anos. \n",
    "* Servidores com menos de 35 anos e mais de 60 são mais raros em cargos de liderança. Um sinal de preconceito com profissionais mais velhos?"
   ]
  },
  {
   "cell_type": "markdown",
   "metadata": {},
   "source": [
    "### Qual é a quantidade de servidores em cargos de liderança de acordo com a cor?"
   ]
  },
  {
   "cell_type": "code",
   "execution_count": 55,
   "metadata": {},
   "outputs": [
    {
     "name": "stderr",
     "output_type": "stream",
     "text": [
      "/tmp/ipykernel_4851/328874964.py:2: FutureWarning:\n",
      "\n",
      "\n",
      "\n",
      "Passing `palette` without assigning `hue` is deprecated and will be removed in v0.14.0. Assign the `x` variable to `hue` and set `legend=False` for the same effect.\n",
      "\n",
      "\n"
     ]
    },
    {
     "data": {
      "image/png": "[encoded data removed]",
      "text/plain": [
       "<Figure size 640x480 with 1 Axes>"
      ]
     },
     "metadata": {},
     "output_type": "display_data"
    }
   ],
   "source": [
    "df_cor_filtrada = df_lideranca.query('DC_RACA_COR != \"NAO INFORMADA\"')\n",
    "sns.countplot(data = df_cor_filtrada, x='DC_RACA_COR', palette='viridis')\n",
    "plt.ylabel('')\n",
    "plt.xlabel('')\n",
    "plt.title('Quantidade de servidores em cargos de liderança de acordo com a cor')\n",
    "plt.show()"
   ]
  },
  {
   "cell_type": "code",
   "execution_count": 39,
   "metadata": {},
   "outputs": [
    {
     "data": {
      "text/html": [
       "<div>\n",
       "<style scoped>\n",
       "    .dataframe tbody tr th:only-of-type {\n",
       "        vertical-align: middle;\n",
       "    }\n",
       "\n",
       "    .dataframe tbody tr th {\n",
       "        vertical-align: top;\n",
       "    }\n",
       "\n",
       "    .dataframe thead th {\n",
       "        text-align: right;\n",
       "    }\n",
       "</style>\n",
       "<table border=\"1\" class=\"dataframe\">\n",
       "  <thead>\n",
       "    <tr style=\"text-align: right;\">\n",
       "      <th></th>\n",
       "      <th>DC_RACA_COR</th>\n",
       "      <th>DC_CARGO_ATUAL</th>\n",
       "      <th>CONTAGEM</th>\n",
       "      <th>PORCENTAGEM</th>\n",
       "    </tr>\n",
       "  </thead>\n",
       "  <tbody>\n",
       "    <tr>\n",
       "      <th>0</th>\n",
       "      <td>AMARELA</td>\n",
       "      <td>ASSISTENTE DE DIRETOR DE ESCOLA</td>\n",
       "      <td>2</td>\n",
       "      <td>100.00</td>\n",
       "    </tr>\n",
       "    <tr>\n",
       "      <th>1</th>\n",
       "      <td>BRANCA</td>\n",
       "      <td>ASSISTENTE DE DIRETOR DE ESCOLA</td>\n",
       "      <td>92</td>\n",
       "      <td>65.71</td>\n",
       "    </tr>\n",
       "    <tr>\n",
       "      <th>2</th>\n",
       "      <td>BRANCA</td>\n",
       "      <td>COORDENADOR PEDAGOGICO</td>\n",
       "      <td>31</td>\n",
       "      <td>22.14</td>\n",
       "    </tr>\n",
       "    <tr>\n",
       "      <th>3</th>\n",
       "      <td>BRANCA</td>\n",
       "      <td>DIRETOR DE ESCOLA</td>\n",
       "      <td>16</td>\n",
       "      <td>11.43</td>\n",
       "    </tr>\n",
       "    <tr>\n",
       "      <th>4</th>\n",
       "      <td>BRANCA</td>\n",
       "      <td>CHEFE DE NUCLEO DE ACAO EDUCACIONAL</td>\n",
       "      <td>1</td>\n",
       "      <td>0.71</td>\n",
       "    </tr>\n",
       "    <tr>\n",
       "      <th>5</th>\n",
       "      <td>PARDA</td>\n",
       "      <td>ASSISTENTE DE DIRETOR DE ESCOLA</td>\n",
       "      <td>49</td>\n",
       "      <td>59.76</td>\n",
       "    </tr>\n",
       "    <tr>\n",
       "      <th>6</th>\n",
       "      <td>PARDA</td>\n",
       "      <td>COORDENADOR PEDAGOGICO</td>\n",
       "      <td>25</td>\n",
       "      <td>30.49</td>\n",
       "    </tr>\n",
       "    <tr>\n",
       "      <th>7</th>\n",
       "      <td>PARDA</td>\n",
       "      <td>DIRETOR DE ESCOLA</td>\n",
       "      <td>6</td>\n",
       "      <td>7.32</td>\n",
       "    </tr>\n",
       "    <tr>\n",
       "      <th>8</th>\n",
       "      <td>PARDA</td>\n",
       "      <td>ASSESSOR III</td>\n",
       "      <td>1</td>\n",
       "      <td>1.22</td>\n",
       "    </tr>\n",
       "    <tr>\n",
       "      <th>9</th>\n",
       "      <td>PARDA</td>\n",
       "      <td>CHEFE DE NUCLEO DE ACAO EDUCACIONAL</td>\n",
       "      <td>1</td>\n",
       "      <td>1.22</td>\n",
       "    </tr>\n",
       "    <tr>\n",
       "      <th>10</th>\n",
       "      <td>PRETA</td>\n",
       "      <td>ASSISTENTE DE DIRETOR DE ESCOLA</td>\n",
       "      <td>32</td>\n",
       "      <td>74.42</td>\n",
       "    </tr>\n",
       "    <tr>\n",
       "      <th>11</th>\n",
       "      <td>PRETA</td>\n",
       "      <td>COORDENADOR PEDAGOGICO</td>\n",
       "      <td>7</td>\n",
       "      <td>16.28</td>\n",
       "    </tr>\n",
       "    <tr>\n",
       "      <th>12</th>\n",
       "      <td>PRETA</td>\n",
       "      <td>ASSESSOR II</td>\n",
       "      <td>2</td>\n",
       "      <td>4.65</td>\n",
       "    </tr>\n",
       "    <tr>\n",
       "      <th>13</th>\n",
       "      <td>PRETA</td>\n",
       "      <td>DIRETOR DE ESCOLA</td>\n",
       "      <td>2</td>\n",
       "      <td>4.65</td>\n",
       "    </tr>\n",
       "  </tbody>\n",
       "</table>\n",
       "</div>"
      ],
      "text/plain": [
       "   DC_RACA_COR                       DC_CARGO_ATUAL  CONTAGEM  PORCENTAGEM\n",
       "0      AMARELA      ASSISTENTE DE DIRETOR DE ESCOLA         2       100.00\n",
       "1       BRANCA      ASSISTENTE DE DIRETOR DE ESCOLA        92        65.71\n",
       "2       BRANCA               COORDENADOR PEDAGOGICO        31        22.14\n",
       "3       BRANCA                    DIRETOR DE ESCOLA        16        11.43\n",
       "4       BRANCA  CHEFE DE NUCLEO DE ACAO EDUCACIONAL         1         0.71\n",
       "5        PARDA      ASSISTENTE DE DIRETOR DE ESCOLA        49        59.76\n",
       "6        PARDA               COORDENADOR PEDAGOGICO        25        30.49\n",
       "7        PARDA                    DIRETOR DE ESCOLA         6         7.32\n",
       "8        PARDA                         ASSESSOR III         1         1.22\n",
       "9        PARDA  CHEFE DE NUCLEO DE ACAO EDUCACIONAL         1         1.22\n",
       "10       PRETA      ASSISTENTE DE DIRETOR DE ESCOLA        32        74.42\n",
       "11       PRETA               COORDENADOR PEDAGOGICO         7        16.28\n",
       "12       PRETA                          ASSESSOR II         2         4.65\n",
       "13       PRETA                    DIRETOR DE ESCOLA         2         4.65"
      ]
     },
     "execution_count": 39,
     "metadata": {},
     "output_type": "execute_result"
    }
   ],
   "source": [
    "\n",
    "df_cor_filtrada_agrupada = df_cor_filtrada.groupby('DC_RACA_COR')['DC_CARGO_ATUAL'].value_counts().reset_index(name='CONTAGEM')\n",
    "df_cor_filtrada_agrupada['PORCENTAGEM'] = round((df_cor_filtrada_agrupada['CONTAGEM'] / df_cor_filtrada_agrupada.groupby('DC_RACA_COR')['CONTAGEM'].transform('sum')) * 100, 2)\n",
    "df_cor_filtrada_agrupada"
   ]
  },
  {
   "cell_type": "markdown",
   "metadata": {},
   "source": [
    "#### Observamos que a maior parte dos servidores se autodeclararam brancos, enquanto a quantidade de profissionais autodeclarados amarelos é ínfima (apenas 2 servidores, todos ocupando o cargo de assistente de diretor de escola). Pardos ocupam a segunda posição, e os pretos, a terceira.\n",
    "\n",
    "#### Os servidores brancos são os que aparecem em maior proporção no cargo de diretor de escola (11,43%), seguidos dos pardos (7,32%) e pretos (4,65%).\n",
    "\n",
    "#### Já no cargo de coordenador pedagógico, a população parda se destaca em relação às outras cores. 30,5% dos pardos ocupam este cargo, enquanto 22% dos brancos  e 16% dos pretos são coordenadores.\n",
    "\n",
    "#### No entanto, o cargo que apresenta a maior proporção ed servidores em todas as cores é o de assitente de diretor de escola: 65,7% dos brancos, 59,7% dos pardos e 74,4% dos pretos ocupam este cargo."
   ]
  },
  {
   "cell_type": "code",
   "execution_count": 40,
   "metadata": {},
   "outputs": [
    {
     "data": {
      "image/png": "[encoded data removed]",
      "text/plain": [
       "<Figure size 1000x600 with 1 Axes>"
      ]
     },
     "metadata": {},
     "output_type": "display_data"
    }
   ],
   "source": [
    "df_pivot = df_cor_filtrada_agrupada.pivot(index='DC_RACA_COR', columns='DC_CARGO_ATUAL', values='PORCENTAGEM')\n",
    "\n",
    "\n",
    "df_pivot.plot(kind='bar', stacked=True, figsize=(10, 6), colormap='viridis')\n",
    "\n",
    "\n",
    "plt.ylabel('Porcentagem')\n",
    "plt.xlabel('Raça/Cor')\n",
    "plt.title('Distribuição percentual dos cargos por raça/cor')\n",
    "plt.legend(title='Cargo', bbox_to_anchor=(1.05, 1), loc='upper left')\n",
    "plt.tight_layout()\n",
    "plt.show()"
   ]
  },
  {
   "cell_type": "code",
   "execution_count": 41,
   "metadata": {},
   "outputs": [
    {
     "data": {
      "application/vnd.plotly.v1+json": {
       "config": {
        "plotlyServerURL": "https://plot.ly"
       },
       "data": [
        {
         "hovertemplate": "DC_RACA_COR=AMARELA<br>CONTAGEM=%{x}<br>DC_CARGO_ATUAL=%{y}<extra></extra>",
         "legendgroup": "AMARELA",
         "marker": {
          "color": "#F0E68C",
          "pattern": {
           "shape": ""
          }
         },
         "name": "AMARELA",
         "orientation": "h",
         "showlegend": true,
         "textposition": "auto",
         "type": "bar",
         "x": {
          "bdata": "Ag==",
          "dtype": "i1"
         },
         "xaxis": "x",
         "y": [
          "ASSISTENTE DE DIRETOR DE ESCOLA"
         ],
         "yaxis": "y"
        },
        {
         "hovertemplate": "DC_RACA_COR=BRANCA<br>CONTAGEM=%{x}<br>DC_CARGO_ATUAL=%{y}<extra></extra>",
         "legendgroup": "BRANCA",
         "marker": {
          "color": "#FFFFF0",
          "pattern": {
           "shape": ""
          }
         },
         "name": "BRANCA",
         "orientation": "h",
         "showlegend": true,
         "textposition": "auto",
         "type": "bar",
         "x": {
          "bdata": "XB8QAQ==",
          "dtype": "i1"
         },
         "xaxis": "x",
         "y": [
          "ASSISTENTE DE DIRETOR DE ESCOLA",
          "COORDENADOR PEDAGOGICO",
          "DIRETOR DE ESCOLA",
          "CHEFE DE NUCLEO DE ACAO EDUCACIONAL"
         ],
         "yaxis": "y"
        },
        {
         "hovertemplate": "DC_RACA_COR=PARDA<br>CONTAGEM=%{x}<br>DC_CARGO_ATUAL=%{y}<extra></extra>",
         "legendgroup": "PARDA",
         "marker": {
          "color": "#A0522D",
          "pattern": {
           "shape": ""
          }
         },
         "name": "PARDA",
         "orientation": "h",
         "showlegend": true,
         "textposition": "auto",
         "type": "bar",
         "x": {
          "bdata": "MRkGAQE=",
          "dtype": "i1"
         },
         "xaxis": "x",
         "y": [
          "ASSISTENTE DE DIRETOR DE ESCOLA",
          "COORDENADOR PEDAGOGICO",
          "DIRETOR DE ESCOLA",
          "ASSESSOR III",
          "CHEFE DE NUCLEO DE ACAO EDUCACIONAL"
         ],
         "yaxis": "y"
        },
        {
         "hovertemplate": "DC_RACA_COR=PRETA<br>CONTAGEM=%{x}<br>DC_CARGO_ATUAL=%{y}<extra></extra>",
         "legendgroup": "PRETA",
         "marker": {
          "color": "#000000",
          "pattern": {
           "shape": ""
          }
         },
         "name": "PRETA",
         "orientation": "h",
         "showlegend": true,
         "textposition": "auto",
         "type": "bar",
         "x": {
          "bdata": "IAcCAg==",
          "dtype": "i1"
         },
         "xaxis": "x",
         "y": [
          "ASSISTENTE DE DIRETOR DE ESCOLA",
          "COORDENADOR PEDAGOGICO",
          "ASSESSOR II",
          "DIRETOR DE ESCOLA"
         ],
         "yaxis": "y"
        }
       ],
       "layout": {
        "barmode": "relative",
        "legend": {
         "title": {
          "text": "DC_RACA_COR"
         },
         "tracegroupgap": 0
        },
        "margin": {
         "t": 60
        },
        "template": {
         "data": {
          "bar": [
           {
            "error_x": {
             "color": "#2a3f5f"
            },
            "error_y": {
             "color": "#2a3f5f"
            },
            "marker": {
             "line": {
              "color": "#E5ECF6",
              "width": 0.5
             },
             "pattern": {
              "fillmode": "overlay",
              "size": 10,
              "solidity": 0.2
             }
            },
            "type": "bar"
           }
          ],
          "barpolar": [
           {
            "marker": {
             "line": {
              "color": "#E5ECF6",
              "width": 0.5
             },
             "pattern": {
              "fillmode": "overlay",
              "size": 10,
              "solidity": 0.2
             }
            },
            "type": "barpolar"
           }
          ],
          "carpet": [
           {
            "aaxis": {
             "endlinecolor": "#2a3f5f",
             "gridcolor": "white",
             "linecolor": "white",
             "minorgridcolor": "white",
             "startlinecolor": "#2a3f5f"
            },
            "baxis": {
             "endlinecolor": "#2a3f5f",
             "gridcolor": "white",
             "linecolor": "white",
             "minorgridcolor": "white",
             "startlinecolor": "#2a3f5f"
            },
            "type": "carpet"
           }
          ],
          "choropleth": [
           {
            "colorbar": {
             "outlinewidth": 0,
             "ticks": ""
            },
            "type": "choropleth"
           }
          ],
          "contour": [
           {
            "colorbar": {
             "outlinewidth": 0,
             "ticks": ""
            },
            "colorscale": [
             [
              0,
              "#0d0887"
             ],
             [
              0.1111111111111111,
              "#46039f"
             ],
             [
              0.2222222222222222,
              "#7201a8"
             ],
             [
              0.3333333333333333,
              "#9c179e"
             ],
             [
              0.4444444444444444,
              "#bd3786"
             ],
             [
              0.5555555555555556,
              "#d8576b"
             ],
             [
              0.6666666666666666,
              "#ed7953"
             ],
             [
              0.7777777777777778,
              "#fb9f3a"
             ],
             [
              0.8888888888888888,
              "#fdca26"
             ],
             [
              1,
              "#f0f921"
             ]
            ],
            "type": "contour"
           }
          ],
          "contourcarpet": [
           {
            "colorbar": {
             "outlinewidth": 0,
             "ticks": ""
            },
            "type": "contourcarpet"
           }
          ],
          "heatmap": [
           {
            "colorbar": {
             "outlinewidth": 0,
             "ticks": ""
            },
            "colorscale": [
             [
              0,
              "#0d0887"
             ],
             [
              0.1111111111111111,
              "#46039f"
             ],
             [
              0.2222222222222222,
              "#7201a8"
             ],
             [
              0.3333333333333333,
              "#9c179e"
             ],
             [
              0.4444444444444444,
              "#bd3786"
             ],
             [
              0.5555555555555556,
              "#d8576b"
             ],
             [
              0.6666666666666666,
              "#ed7953"
             ],
             [
              0.7777777777777778,
              "#fb9f3a"
             ],
             [
              0.8888888888888888,
              "#fdca26"
             ],
             [
              1,
              "#f0f921"
             ]
            ],
            "type": "heatmap"
           }
          ],
          "histogram": [
           {
            "marker": {
             "pattern": {
              "fillmode": "overlay",
              "size": 10,
              "solidity": 0.2
             }
            },
            "type": "histogram"
           }
          ],
          "histogram2d": [
           {
            "colorbar": {
             "outlinewidth": 0,
             "ticks": ""
            },
            "colorscale": [
             [
              0,
              "#0d0887"
             ],
             [
              0.1111111111111111,
              "#46039f"
             ],
             [
              0.2222222222222222,
              "#7201a8"
             ],
             [
              0.3333333333333333,
              "#9c179e"
             ],
             [
              0.4444444444444444,
              "#bd3786"
             ],
             [
              0.5555555555555556,
              "#d8576b"
             ],
             [
              0.6666666666666666,
              "#ed7953"
             ],
             [
              0.7777777777777778,
              "#fb9f3a"
             ],
             [
              0.8888888888888888,
              "#fdca26"
             ],
             [
              1,
              "#f0f921"
             ]
            ],
            "type": "histogram2d"
           }
          ],
          "histogram2dcontour": [
           {
            "colorbar": {
             "outlinewidth": 0,
             "ticks": ""
            },
            "colorscale": [
             [
              0,
              "#0d0887"
             ],
             [
              0.1111111111111111,
              "#46039f"
             ],
             [
              0.2222222222222222,
              "#7201a8"
             ],
             [
              0.3333333333333333,
              "#9c179e"
             ],
             [
              0.4444444444444444,
              "#bd3786"
             ],
             [
              0.5555555555555556,
              "#d8576b"
             ],
             [
              0.6666666666666666,
              "#ed7953"
             ],
             [
              0.7777777777777778,
              "#fb9f3a"
             ],
             [
              0.8888888888888888,
              "#fdca26"
             ],
             [
              1,
              "#f0f921"
             ]
            ],
            "type": "histogram2dcontour"
           }
          ],
          "mesh3d": [
           {
            "colorbar": {
             "outlinewidth": 0,
             "ticks": ""
            },
            "type": "mesh3d"
           }
          ],
          "parcoords": [
           {
            "line": {
             "colorbar": {
              "outlinewidth": 0,
              "ticks": ""
             }
            },
            "type": "parcoords"
           }
          ],
          "pie": [
           {
            "automargin": true,
            "type": "pie"
           }
          ],
          "scatter": [
           {
            "fillpattern": {
             "fillmode": "overlay",
             "size": 10,
             "solidity": 0.2
            },
            "type": "scatter"
           }
          ],
          "scatter3d": [
           {
            "line": {
             "colorbar": {
              "outlinewidth": 0,
              "ticks": ""
             }
            },
            "marker": {
             "colorbar": {
              "outlinewidth": 0,
              "ticks": ""
             }
            },
            "type": "scatter3d"
           }
          ],
          "scattercarpet": [
           {
            "marker": {
             "colorbar": {
              "outlinewidth": 0,
              "ticks": ""
             }
            },
            "type": "scattercarpet"
           }
          ],
          "scattergeo": [
           {
            "marker": {
             "colorbar": {
              "outlinewidth": 0,
              "ticks": ""
             }
            },
            "type": "scattergeo"
           }
          ],
          "scattergl": [
           {
            "marker": {
             "colorbar": {
              "outlinewidth": 0,
              "ticks": ""
             }
            },
            "type": "scattergl"
           }
          ],
          "scattermap": [
           {
            "marker": {
             "colorbar": {
              "outlinewidth": 0,
              "ticks": ""
             }
            },
            "type": "scattermap"
           }
          ],
          "scattermapbox": [
           {
            "marker": {
             "colorbar": {
              "outlinewidth": 0,
              "ticks": ""
             }
            },
            "type": "scattermapbox"
           }
          ],
          "scatterpolar": [
           {
            "marker": {
             "colorbar": {
              "outlinewidth": 0,
              "ticks": ""
             }
            },
            "type": "scatterpolar"
           }
          ],
          "scatterpolargl": [
           {
            "marker": {
             "colorbar": {
              "outlinewidth": 0,
              "ticks": ""
             }
            },
            "type": "scatterpolargl"
           }
          ],
          "scatterternary": [
           {
            "marker": {
             "colorbar": {
              "outlinewidth": 0,
              "ticks": ""
             }
            },
            "type": "scatterternary"
           }
          ],
          "surface": [
           {
            "colorbar": {
             "outlinewidth": 0,
             "ticks": ""
            },
            "colorscale": [
             [
              0,
              "#0d0887"
             ],
             [
              0.1111111111111111,
              "#46039f"
             ],
             [
              0.2222222222222222,
              "#7201a8"
             ],
             [
              0.3333333333333333,
              "#9c179e"
             ],
             [
              0.4444444444444444,
              "#bd3786"
             ],
             [
              0.5555555555555556,
              "#d8576b"
             ],
             [
              0.6666666666666666,
              "#ed7953"
             ],
             [
              0.7777777777777778,
              "#fb9f3a"
             ],
             [
              0.8888888888888888,
              "#fdca26"
             ],
             [
              1,
              "#f0f921"
             ]
            ],
            "type": "surface"
           }
          ],
          "table": [
           {
            "cells": {
             "fill": {
              "color": "#EBF0F8"
             },
             "line": {
              "color": "white"
             }
            },
            "header": {
             "fill": {
              "color": "#C8D4E3"
             },
             "line": {
              "color": "white"
             }
            },
            "type": "table"
           }
          ]
         },
         "layout": {
          "annotationdefaults": {
           "arrowcolor": "#2a3f5f",
           "arrowhead": 0,
           "arrowwidth": 1
          },
          "autotypenumbers": "strict",
          "coloraxis": {
           "colorbar": {
            "outlinewidth": 0,
            "ticks": ""
           }
          },
          "colorscale": {
           "diverging": [
            [
             0,
             "#8e0152"
            ],
            [
             0.1,
             "#c51b7d"
            ],
            [
             0.2,
             "#de77ae"
            ],
            [
             0.3,
             "#f1b6da"
            ],
            [
             0.4,
             "#fde0ef"
            ],
            [
             0.5,
             "#f7f7f7"
            ],
            [
             0.6,
             "#e6f5d0"
            ],
            [
             0.7,
             "#b8e186"
            ],
            [
             0.8,
             "#7fbc41"
            ],
            [
             0.9,
             "#4d9221"
            ],
            [
             1,
             "#276419"
            ]
           ],
           "sequential": [
            [
             0,
             "#0d0887"
            ],
            [
             0.1111111111111111,
             "#46039f"
            ],
            [
             0.2222222222222222,
             "#7201a8"
            ],
            [
             0.3333333333333333,
             "#9c179e"
            ],
            [
             0.4444444444444444,
             "#bd3786"
            ],
            [
             0.5555555555555556,
             "#d8576b"
            ],
            [
             0.6666666666666666,
             "#ed7953"
            ],
            [
             0.7777777777777778,
             "#fb9f3a"
            ],
            [
             0.8888888888888888,
             "#fdca26"
            ],
            [
             1,
             "#f0f921"
            ]
           ],
           "sequentialminus": [
            [
             0,
             "#0d0887"
            ],
            [
             0.1111111111111111,
             "#46039f"
            ],
            [
             0.2222222222222222,
             "#7201a8"
            ],
            [
             0.3333333333333333,
             "#9c179e"
            ],
            [
             0.4444444444444444,
             "#bd3786"
            ],
            [
             0.5555555555555556,
             "#d8576b"
            ],
            [
             0.6666666666666666,
             "#ed7953"
            ],
            [
             0.7777777777777778,
             "#fb9f3a"
            ],
            [
             0.8888888888888888,
             "#fdca26"
            ],
            [
             1,
             "#f0f921"
            ]
           ]
          },
          "colorway": [
           "#636efa",
           "#EF553B",
           "#00cc96",
           "#ab63fa",
           "#FFA15A",
           "#19d3f3",
           "#FF6692",
           "#B6E880",
           "#FF97FF",
           "#FECB52"
          ],
          "font": {
           "color": "#2a3f5f"
          },
          "geo": {
           "bgcolor": "white",
           "lakecolor": "white",
           "landcolor": "#E5ECF6",
           "showlakes": true,
           "showland": true,
           "subunitcolor": "white"
          },
          "hoverlabel": {
           "align": "left"
          },
          "hovermode": "closest",
          "mapbox": {
           "style": "light"
          },
          "paper_bgcolor": "white",
          "plot_bgcolor": "#E5ECF6",
          "polar": {
           "angularaxis": {
            "gridcolor": "white",
            "linecolor": "white",
            "ticks": ""
           },
           "bgcolor": "#E5ECF6",
           "radialaxis": {
            "gridcolor": "white",
            "linecolor": "white",
            "ticks": ""
           }
          },
          "scene": {
           "xaxis": {
            "backgroundcolor": "#E5ECF6",
            "gridcolor": "white",
            "gridwidth": 2,
            "linecolor": "white",
            "showbackground": true,
            "ticks": "",
            "zerolinecolor": "white"
           },
           "yaxis": {
            "backgroundcolor": "#E5ECF6",
            "gridcolor": "white",
            "gridwidth": 2,
            "linecolor": "white",
            "showbackground": true,
            "ticks": "",
            "zerolinecolor": "white"
           },
           "zaxis": {
            "backgroundcolor": "#E5ECF6",
            "gridcolor": "white",
            "gridwidth": 2,
            "linecolor": "white",
            "showbackground": true,
            "ticks": "",
            "zerolinecolor": "white"
           }
          },
          "shapedefaults": {
           "line": {
            "color": "#2a3f5f"
           }
          },
          "ternary": {
           "aaxis": {
            "gridcolor": "white",
            "linecolor": "white",
            "ticks": ""
           },
           "baxis": {
            "gridcolor": "white",
            "linecolor": "white",
            "ticks": ""
           },
           "bgcolor": "#E5ECF6",
           "caxis": {
            "gridcolor": "white",
            "linecolor": "white",
            "ticks": ""
           }
          },
          "title": {
           "x": 0.05
          },
          "xaxis": {
           "automargin": true,
           "gridcolor": "white",
           "linecolor": "white",
           "ticks": "",
           "title": {
            "standoff": 15
           },
           "zerolinecolor": "white",
           "zerolinewidth": 2
          },
          "yaxis": {
           "automargin": true,
           "gridcolor": "white",
           "linecolor": "white",
           "ticks": "",
           "title": {
            "standoff": 15
           },
           "zerolinecolor": "white",
           "zerolinewidth": 2
          }
         }
        },
        "xaxis": {
         "anchor": "y",
         "domain": [
          0,
          1
         ],
         "title": {
          "text": "CONTAGEM"
         }
        },
        "yaxis": {
         "anchor": "x",
         "domain": [
          0,
          1
         ],
         "title": {
          "text": "DC_CARGO_ATUAL"
         }
        }
       }
      }
     },
     "metadata": {},
     "output_type": "display_data"
    }
   ],
   "source": [
    "\n",
    "fig = px.bar(df_cor_filtrada_agrupada, y='DC_CARGO_ATUAL', x='CONTAGEM', color='DC_RACA_COR', orientation='h',\n",
    "             color_discrete_map={'PRETA': '#000000', 'PARDA': '#A0522D', 'AMARELA': '#F0E68C', 'BRANCA': '#FFFFF0'})\n",
    "\n",
    "fig.show()"
   ]
  },
  {
   "cell_type": "markdown",
   "metadata": {},
   "source": [
    "### Analisando mais detidamente a população negra"
   ]
  },
  {
   "cell_type": "code",
   "execution_count": 59,
   "metadata": {},
   "outputs": [
    {
     "data": {
      "image/png": "[encoded data removed]",
      "text/plain": [
       "<Figure size 640x480 with 1 Axes>"
      ]
     },
     "metadata": {},
     "output_type": "display_data"
    }
   ],
   "source": [
    "filtro_negros = df_lideranca.query(\"DC_RACA_COR == 'PRETA' or DC_RACA_COR == 'PARDA'\")\n",
    "sns.countplot(data = filtro_negros, x = 'DC_RACA_COR')\n",
    "plt.title('Distribuição dos negros em cargo de liderança')\n",
    "plt.xlabel('')\n",
    "plt.ylabel('')\n",
    "\n",
    "plt.show()\n"
   ]
  },
  {
   "cell_type": "markdown",
   "metadata": {},
   "source": [
    "#### Há praticamente o dobro da quantidade de pardos em cargos de liderança, em comparação com a quantidade de pretos."
   ]
  },
  {
   "cell_type": "code",
   "execution_count": 43,
   "metadata": {},
   "outputs": [
    {
     "data": {
      "application/vnd.plotly.v1+json": {
       "config": {
        "plotlyServerURL": "https://plot.ly"
       },
       "data": [
        {
         "hovertemplate": "DC_RACA_COR=PRETA<br>Porcentagem=%{x}<br>DC_CARGO_ATUAL=%{y}<extra></extra>",
         "legendgroup": "PRETA",
         "marker": {
          "color": "#000000",
          "pattern": {
           "shape": ""
          }
         },
         "name": "PRETA",
         "orientation": "h",
         "showlegend": true,
         "textposition": "auto",
         "type": "bar",
         "x": {
          "bdata": "AAAAAAAAWUC35odFysBDQAAAAAAA4DVAAAAAAAAAOUA=",
          "dtype": "f8"
         },
         "xaxis": "x",
         "y": [
          "ASSESSOR II",
          "ASSISTENTE DE DIRETOR DE ESCOLA",
          "COORDENADOR PEDAGOGICO",
          "DIRETOR DE ESCOLA"
         ],
         "yaxis": "y"
        },
        {
         "hovertemplate": "DC_RACA_COR=PARDA<br>Porcentagem=%{x}<br>DC_CARGO_ATUAL=%{y}<extra></extra>",
         "legendgroup": "PARDA",
         "marker": {
          "color": "#A0522D",
          "pattern": {
           "shape": ""
          }
         },
         "name": "PARDA",
         "orientation": "h",
         "showlegend": true,
         "textposition": "auto",
         "type": "bar",
         "x": {
          "bdata": "AAAAAAAAWUBJGXi6NT9OQAAAAAAAAFlAAAAAAACIU0AAAAAAAMBSQA==",
          "dtype": "f8"
         },
         "xaxis": "x",
         "y": [
          "ASSESSOR III",
          "ASSISTENTE DE DIRETOR DE ESCOLA",
          "CHEFE DE NUCLEO DE ACAO EDUCACIONAL",
          "COORDENADOR PEDAGOGICO",
          "DIRETOR DE ESCOLA"
         ],
         "yaxis": "y"
        }
       ],
       "layout": {
        "barmode": "relative",
        "legend": {
         "title": {
          "text": "DC_RACA_COR"
         },
         "tracegroupgap": 0
        },
        "margin": {
         "t": 60
        },
        "template": {
         "data": {
          "bar": [
           {
            "error_x": {
             "color": "#2a3f5f"
            },
            "error_y": {
             "color": "#2a3f5f"
            },
            "marker": {
             "line": {
              "color": "#E5ECF6",
              "width": 0.5
             },
             "pattern": {
              "fillmode": "overlay",
              "size": 10,
              "solidity": 0.2
             }
            },
            "type": "bar"
           }
          ],
          "barpolar": [
           {
            "marker": {
             "line": {
              "color": "#E5ECF6",
              "width": 0.5
             },
             "pattern": {
              "fillmode": "overlay",
              "size": 10,
              "solidity": 0.2
             }
            },
            "type": "barpolar"
           }
          ],
          "carpet": [
           {
            "aaxis": {
             "endlinecolor": "#2a3f5f",
             "gridcolor": "white",
             "linecolor": "white",
             "minorgridcolor": "white",
             "startlinecolor": "#2a3f5f"
            },
            "baxis": {
             "endlinecolor": "#2a3f5f",
             "gridcolor": "white",
             "linecolor": "white",
             "minorgridcolor": "white",
             "startlinecolor": "#2a3f5f"
            },
            "type": "carpet"
           }
          ],
          "choropleth": [
           {
            "colorbar": {
             "outlinewidth": 0,
             "ticks": ""
            },
            "type": "choropleth"
           }
          ],
          "contour": [
           {
            "colorbar": {
             "outlinewidth": 0,
             "ticks": ""
            },
            "colorscale": [
             [
              0,
              "#0d0887"
             ],
             [
              0.1111111111111111,
              "#46039f"
             ],
             [
              0.2222222222222222,
              "#7201a8"
             ],
             [
              0.3333333333333333,
              "#9c179e"
             ],
             [
              0.4444444444444444,
              "#bd3786"
             ],
             [
              0.5555555555555556,
              "#d8576b"
             ],
             [
              0.6666666666666666,
              "#ed7953"
             ],
             [
              0.7777777777777778,
              "#fb9f3a"
             ],
             [
              0.8888888888888888,
              "#fdca26"
             ],
             [
              1,
              "#f0f921"
             ]
            ],
            "type": "contour"
           }
          ],
          "contourcarpet": [
           {
            "colorbar": {
             "outlinewidth": 0,
             "ticks": ""
            },
            "type": "contourcarpet"
           }
          ],
          "heatmap": [
           {
            "colorbar": {
             "outlinewidth": 0,
             "ticks": ""
            },
            "colorscale": [
             [
              0,
              "#0d0887"
             ],
             [
              0.1111111111111111,
              "#46039f"
             ],
             [
              0.2222222222222222,
              "#7201a8"
             ],
             [
              0.3333333333333333,
              "#9c179e"
             ],
             [
              0.4444444444444444,
              "#bd3786"
             ],
             [
              0.5555555555555556,
              "#d8576b"
             ],
             [
              0.6666666666666666,
              "#ed7953"
             ],
             [
              0.7777777777777778,
              "#fb9f3a"
             ],
             [
              0.8888888888888888,
              "#fdca26"
             ],
             [
              1,
              "#f0f921"
             ]
            ],
            "type": "heatmap"
           }
          ],
          "histogram": [
           {
            "marker": {
             "pattern": {
              "fillmode": "overlay",
              "size": 10,
              "solidity": 0.2
             }
            },
            "type": "histogram"
           }
          ],
          "histogram2d": [
           {
            "colorbar": {
             "outlinewidth": 0,
             "ticks": ""
            },
            "colorscale": [
             [
              0,
              "#0d0887"
             ],
             [
              0.1111111111111111,
              "#46039f"
             ],
             [
              0.2222222222222222,
              "#7201a8"
             ],
             [
              0.3333333333333333,
              "#9c179e"
             ],
             [
              0.4444444444444444,
              "#bd3786"
             ],
             [
              0.5555555555555556,
              "#d8576b"
             ],
             [
              0.6666666666666666,
              "#ed7953"
             ],
             [
              0.7777777777777778,
              "#fb9f3a"
             ],
             [
              0.8888888888888888,
              "#fdca26"
             ],
             [
              1,
              "#f0f921"
             ]
            ],
            "type": "histogram2d"
           }
          ],
          "histogram2dcontour": [
           {
            "colorbar": {
             "outlinewidth": 0,
             "ticks": ""
            },
            "colorscale": [
             [
              0,
              "#0d0887"
             ],
             [
              0.1111111111111111,
              "#46039f"
             ],
             [
              0.2222222222222222,
              "#7201a8"
             ],
             [
              0.3333333333333333,
              "#9c179e"
             ],
             [
              0.4444444444444444,
              "#bd3786"
             ],
             [
              0.5555555555555556,
              "#d8576b"
             ],
             [
              0.6666666666666666,
              "#ed7953"
             ],
             [
              0.7777777777777778,
              "#fb9f3a"
             ],
             [
              0.8888888888888888,
              "#fdca26"
             ],
             [
              1,
              "#f0f921"
             ]
            ],
            "type": "histogram2dcontour"
           }
          ],
          "mesh3d": [
           {
            "colorbar": {
             "outlinewidth": 0,
             "ticks": ""
            },
            "type": "mesh3d"
           }
          ],
          "parcoords": [
           {
            "line": {
             "colorbar": {
              "outlinewidth": 0,
              "ticks": ""
             }
            },
            "type": "parcoords"
           }
          ],
          "pie": [
           {
            "automargin": true,
            "type": "pie"
           }
          ],
          "scatter": [
           {
            "fillpattern": {
             "fillmode": "overlay",
             "size": 10,
             "solidity": 0.2
            },
            "type": "scatter"
           }
          ],
          "scatter3d": [
           {
            "line": {
             "colorbar": {
              "outlinewidth": 0,
              "ticks": ""
             }
            },
            "marker": {
             "colorbar": {
              "outlinewidth": 0,
              "ticks": ""
             }
            },
            "type": "scatter3d"
           }
          ],
          "scattercarpet": [
           {
            "marker": {
             "colorbar": {
              "outlinewidth": 0,
              "ticks": ""
             }
            },
            "type": "scattercarpet"
           }
          ],
          "scattergeo": [
           {
            "marker": {
             "colorbar": {
              "outlinewidth": 0,
              "ticks": ""
             }
            },
            "type": "scattergeo"
           }
          ],
          "scattergl": [
           {
            "marker": {
             "colorbar": {
              "outlinewidth": 0,
              "ticks": ""
             }
            },
            "type": "scattergl"
           }
          ],
          "scattermap": [
           {
            "marker": {
             "colorbar": {
              "outlinewidth": 0,
              "ticks": ""
             }
            },
            "type": "scattermap"
           }
          ],
          "scattermapbox": [
           {
            "marker": {
             "colorbar": {
              "outlinewidth": 0,
              "ticks": ""
             }
            },
            "type": "scattermapbox"
           }
          ],
          "scatterpolar": [
           {
            "marker": {
             "colorbar": {
              "outlinewidth": 0,
              "ticks": ""
             }
            },
            "type": "scatterpolar"
           }
          ],
          "scatterpolargl": [
           {
            "marker": {
             "colorbar": {
              "outlinewidth": 0,
              "ticks": ""
             }
            },
            "type": "scatterpolargl"
           }
          ],
          "scatterternary": [
           {
            "marker": {
             "colorbar": {
              "outlinewidth": 0,
              "ticks": ""
             }
            },
            "type": "scatterternary"
           }
          ],
          "surface": [
           {
            "colorbar": {
             "outlinewidth": 0,
             "ticks": ""
            },
            "colorscale": [
             [
              0,
              "#0d0887"
             ],
             [
              0.1111111111111111,
              "#46039f"
             ],
             [
              0.2222222222222222,
              "#7201a8"
             ],
             [
              0.3333333333333333,
              "#9c179e"
             ],
             [
              0.4444444444444444,
              "#bd3786"
             ],
             [
              0.5555555555555556,
              "#d8576b"
             ],
             [
              0.6666666666666666,
              "#ed7953"
             ],
             [
              0.7777777777777778,
              "#fb9f3a"
             ],
             [
              0.8888888888888888,
              "#fdca26"
             ],
             [
              1,
              "#f0f921"
             ]
            ],
            "type": "surface"
           }
          ],
          "table": [
           {
            "cells": {
             "fill": {
              "color": "#EBF0F8"
             },
             "line": {
              "color": "white"
             }
            },
            "header": {
             "fill": {
              "color": "#C8D4E3"
             },
             "line": {
              "color": "white"
             }
            },
            "type": "table"
           }
          ]
         },
         "layout": {
          "annotationdefaults": {
           "arrowcolor": "#2a3f5f",
           "arrowhead": 0,
           "arrowwidth": 1
          },
          "autotypenumbers": "strict",
          "coloraxis": {
           "colorbar": {
            "outlinewidth": 0,
            "ticks": ""
           }
          },
          "colorscale": {
           "diverging": [
            [
             0,
             "#8e0152"
            ],
            [
             0.1,
             "#c51b7d"
            ],
            [
             0.2,
             "#de77ae"
            ],
            [
             0.3,
             "#f1b6da"
            ],
            [
             0.4,
             "#fde0ef"
            ],
            [
             0.5,
             "#f7f7f7"
            ],
            [
             0.6,
             "#e6f5d0"
            ],
            [
             0.7,
             "#b8e186"
            ],
            [
             0.8,
             "#7fbc41"
            ],
            [
             0.9,
             "#4d9221"
            ],
            [
             1,
             "#276419"
            ]
           ],
           "sequential": [
            [
             0,
             "#0d0887"
            ],
            [
             0.1111111111111111,
             "#46039f"
            ],
            [
             0.2222222222222222,
             "#7201a8"
            ],
            [
             0.3333333333333333,
             "#9c179e"
            ],
            [
             0.4444444444444444,
             "#bd3786"
            ],
            [
             0.5555555555555556,
             "#d8576b"
            ],
            [
             0.6666666666666666,
             "#ed7953"
            ],
            [
             0.7777777777777778,
             "#fb9f3a"
            ],
            [
             0.8888888888888888,
             "#fdca26"
            ],
            [
             1,
             "#f0f921"
            ]
           ],
           "sequentialminus": [
            [
             0,
             "#0d0887"
            ],
            [
             0.1111111111111111,
             "#46039f"
            ],
            [
             0.2222222222222222,
             "#7201a8"
            ],
            [
             0.3333333333333333,
             "#9c179e"
            ],
            [
             0.4444444444444444,
             "#bd3786"
            ],
            [
             0.5555555555555556,
             "#d8576b"
            ],
            [
             0.6666666666666666,
             "#ed7953"
            ],
            [
             0.7777777777777778,
             "#fb9f3a"
            ],
            [
             0.8888888888888888,
             "#fdca26"
            ],
            [
             1,
             "#f0f921"
            ]
           ]
          },
          "colorway": [
           "#636efa",
           "#EF553B",
           "#00cc96",
           "#ab63fa",
           "#FFA15A",
           "#19d3f3",
           "#FF6692",
           "#B6E880",
           "#FF97FF",
           "#FECB52"
          ],
          "font": {
           "color": "#2a3f5f"
          },
          "geo": {
           "bgcolor": "white",
           "lakecolor": "white",
           "landcolor": "#E5ECF6",
           "showlakes": true,
           "showland": true,
           "subunitcolor": "white"
          },
          "hoverlabel": {
           "align": "left"
          },
          "hovermode": "closest",
          "mapbox": {
           "style": "light"
          },
          "paper_bgcolor": "white",
          "plot_bgcolor": "#E5ECF6",
          "polar": {
           "angularaxis": {
            "gridcolor": "white",
            "linecolor": "white",
            "ticks": ""
           },
           "bgcolor": "#E5ECF6",
           "radialaxis": {
            "gridcolor": "white",
            "linecolor": "white",
            "ticks": ""
           }
          },
          "scene": {
           "xaxis": {
            "backgroundcolor": "#E5ECF6",
            "gridcolor": "white",
            "gridwidth": 2,
            "linecolor": "white",
            "showbackground": true,
            "ticks": "",
            "zerolinecolor": "white"
           },
           "yaxis": {
            "backgroundcolor": "#E5ECF6",
            "gridcolor": "white",
            "gridwidth": 2,
            "linecolor": "white",
            "showbackground": true,
            "ticks": "",
            "zerolinecolor": "white"
           },
           "zaxis": {
            "backgroundcolor": "#E5ECF6",
            "gridcolor": "white",
            "gridwidth": 2,
            "linecolor": "white",
            "showbackground": true,
            "ticks": "",
            "zerolinecolor": "white"
           }
          },
          "shapedefaults": {
           "line": {
            "color": "#2a3f5f"
           }
          },
          "ternary": {
           "aaxis": {
            "gridcolor": "white",
            "linecolor": "white",
            "ticks": ""
           },
           "baxis": {
            "gridcolor": "white",
            "linecolor": "white",
            "ticks": ""
           },
           "bgcolor": "#E5ECF6",
           "caxis": {
            "gridcolor": "white",
            "linecolor": "white",
            "ticks": ""
           }
          },
          "title": {
           "x": 0.05
          },
          "xaxis": {
           "automargin": true,
           "gridcolor": "white",
           "linecolor": "white",
           "ticks": "",
           "title": {
            "standoff": 15
           },
           "zerolinecolor": "white",
           "zerolinewidth": 2
          },
          "yaxis": {
           "automargin": true,
           "gridcolor": "white",
           "linecolor": "white",
           "ticks": "",
           "title": {
            "standoff": 15
           },
           "zerolinecolor": "white",
           "zerolinewidth": 2
          }
         }
        },
        "xaxis": {
         "anchor": "y",
         "domain": [
          0,
          1
         ],
         "title": {
          "text": "Porcentagem"
         }
        },
        "yaxis": {
         "anchor": "x",
         "domain": [
          0,
          1
         ],
         "title": {
          "text": "DC_CARGO_ATUAL"
         }
        }
       }
      }
     },
     "metadata": {},
     "output_type": "display_data"
    }
   ],
   "source": [
    "contagem = filtro_negros.groupby(['DC_CARGO_ATUAL', 'DC_RACA_COR']).size().reset_index(name='Contagem') \n",
    "contagem['Porcentagem'] = contagem.groupby('DC_CARGO_ATUAL')['Contagem'].transform(lambda x: (x / x.sum()) * 100)\n",
    "\n",
    "fig = px.bar(contagem, y='DC_CARGO_ATUAL', x='Porcentagem', color='DC_RACA_COR', orientation='h',\n",
    "             color_discrete_map={'PRETA': '#000000', 'PARDA': '#A0522D'})\n",
    "\n",
    "\n",
    "\n",
    "fig.show()"
   ]
  },
  {
   "cell_type": "markdown",
   "metadata": {},
   "source": [
    "#### A proporção de pardos nos cargos de direção, coordenação e assistência à direção é bem maior que a de pretos."
   ]
  },
  {
   "cell_type": "markdown",
   "metadata": {},
   "source": [
    "### E de acordo com o gênero?"
   ]
  },
  {
   "cell_type": "code",
   "execution_count": 44,
   "metadata": {},
   "outputs": [
    {
     "data": {
      "text/html": [
       "<div>\n",
       "<style scoped>\n",
       "    .dataframe tbody tr th:only-of-type {\n",
       "        vertical-align: middle;\n",
       "    }\n",
       "\n",
       "    .dataframe tbody tr th {\n",
       "        vertical-align: top;\n",
       "    }\n",
       "\n",
       "    .dataframe thead th {\n",
       "        text-align: right;\n",
       "    }\n",
       "</style>\n",
       "<table border=\"1\" class=\"dataframe\">\n",
       "  <thead>\n",
       "    <tr style=\"text-align: right;\">\n",
       "      <th></th>\n",
       "      <th>CD_SEXO</th>\n",
       "      <th>DC_CARGO_ATUAL</th>\n",
       "      <th>CONTAGEM</th>\n",
       "      <th>PORCENTAGEM</th>\n",
       "    </tr>\n",
       "  </thead>\n",
       "  <tbody>\n",
       "    <tr>\n",
       "      <th>0</th>\n",
       "      <td>F</td>\n",
       "      <td>ASSISTENTE DE DIRETOR DE ESCOLA</td>\n",
       "      <td>296</td>\n",
       "      <td>67.12</td>\n",
       "    </tr>\n",
       "    <tr>\n",
       "      <th>1</th>\n",
       "      <td>F</td>\n",
       "      <td>COORDENADOR PEDAGOGICO</td>\n",
       "      <td>100</td>\n",
       "      <td>22.68</td>\n",
       "    </tr>\n",
       "    <tr>\n",
       "      <th>2</th>\n",
       "      <td>F</td>\n",
       "      <td>DIRETOR DE ESCOLA</td>\n",
       "      <td>34</td>\n",
       "      <td>7.71</td>\n",
       "    </tr>\n",
       "    <tr>\n",
       "      <th>3</th>\n",
       "      <td>F</td>\n",
       "      <td>ASSESSOR II</td>\n",
       "      <td>4</td>\n",
       "      <td>0.91</td>\n",
       "    </tr>\n",
       "    <tr>\n",
       "      <th>4</th>\n",
       "      <td>F</td>\n",
       "      <td>CHEFE DE NUCLEO DE ACAO EDUCACIONAL</td>\n",
       "      <td>4</td>\n",
       "      <td>0.91</td>\n",
       "    </tr>\n",
       "    <tr>\n",
       "      <th>5</th>\n",
       "      <td>F</td>\n",
       "      <td>ASSESSOR III</td>\n",
       "      <td>2</td>\n",
       "      <td>0.45</td>\n",
       "    </tr>\n",
       "    <tr>\n",
       "      <th>6</th>\n",
       "      <td>F</td>\n",
       "      <td>SUPERVISOR ESCOLAR</td>\n",
       "      <td>1</td>\n",
       "      <td>0.23</td>\n",
       "    </tr>\n",
       "    <tr>\n",
       "      <th>7</th>\n",
       "      <td>M</td>\n",
       "      <td>ASSISTENTE DE DIRETOR DE ESCOLA</td>\n",
       "      <td>15</td>\n",
       "      <td>83.33</td>\n",
       "    </tr>\n",
       "    <tr>\n",
       "      <th>8</th>\n",
       "      <td>M</td>\n",
       "      <td>COORDENADOR PEDAGOGICO</td>\n",
       "      <td>3</td>\n",
       "      <td>16.67</td>\n",
       "    </tr>\n",
       "  </tbody>\n",
       "</table>\n",
       "</div>"
      ],
      "text/plain": [
       "  CD_SEXO                       DC_CARGO_ATUAL  CONTAGEM  PORCENTAGEM\n",
       "0       F      ASSISTENTE DE DIRETOR DE ESCOLA       296        67.12\n",
       "1       F               COORDENADOR PEDAGOGICO       100        22.68\n",
       "2       F                    DIRETOR DE ESCOLA        34         7.71\n",
       "3       F                          ASSESSOR II         4         0.91\n",
       "4       F  CHEFE DE NUCLEO DE ACAO EDUCACIONAL         4         0.91\n",
       "5       F                         ASSESSOR III         2         0.45\n",
       "6       F                   SUPERVISOR ESCOLAR         1         0.23\n",
       "7       M      ASSISTENTE DE DIRETOR DE ESCOLA        15        83.33\n",
       "8       M               COORDENADOR PEDAGOGICO         3        16.67"
      ]
     },
     "execution_count": 44,
     "metadata": {},
     "output_type": "execute_result"
    }
   ],
   "source": [
    "df_genero_filtrada_agrupada = df_lideranca.groupby('CD_SEXO')['DC_CARGO_ATUAL'].value_counts().reset_index(name='CONTAGEM')\n",
    "df_genero_filtrada_agrupada['PORCENTAGEM'] = round((df_genero_filtrada_agrupada['CONTAGEM'] / df_genero_filtrada_agrupada.groupby('CD_SEXO')['CONTAGEM'].transform('sum')) * 100, 2)\n",
    "df_genero_filtrada_agrupada"
   ]
  },
  {
   "cell_type": "code",
   "execution_count": 61,
   "metadata": {},
   "outputs": [
    {
     "data": {
      "application/vnd.plotly.v1+json": {
       "config": {
        "plotlyServerURL": "https://plot.ly"
       },
       "data": [
        {
         "hovertemplate": "CD_SEXO=F<br>PORCENTAGEM=%{x}<br>DC_CARGO_ATUAL=%{y}<extra></extra>",
         "legendgroup": "F",
         "marker": {
          "color": "#8B0000",
          "pattern": {
           "shape": ""
          }
         },
         "name": "F",
         "orientation": "h",
         "showlegend": true,
         "textposition": "auto",
         "type": "bar",
         "x": {
          "bdata": "SOF6FK7HUECuR+F6FK42QNejcD0K1x5AH4XrUbge7T8fhetRuB7tP83MzMzMzNw/cT0K16NwzT8=",
          "dtype": "f8"
         },
         "xaxis": "x",
         "y": [
          "ASSISTENTE DE DIRETOR DE ESCOLA",
          "COORDENADOR PEDAGOGICO",
          "DIRETOR DE ESCOLA",
          "ASSESSOR II",
          "CHEFE DE NUCLEO DE ACAO EDUCACIONAL",
          "ASSESSOR III",
          "SUPERVISOR ESCOLAR"
         ],
         "yaxis": "y"
        },
        {
         "hovertemplate": "CD_SEXO=M<br>PORCENTAGEM=%{x}<br>DC_CARGO_ATUAL=%{y}<extra></extra>",
         "legendgroup": "M",
         "marker": {
          "color": "#3CB371",
          "pattern": {
           "shape": ""
          }
         },
         "name": "M",
         "orientation": "h",
         "showlegend": true,
         "textposition": "auto",
         "type": "bar",
         "x": {
          "bdata": "hetRuB7VVEDsUbgehaswQA==",
          "dtype": "f8"
         },
         "xaxis": "x",
         "y": [
          "ASSISTENTE DE DIRETOR DE ESCOLA",
          "COORDENADOR PEDAGOGICO"
         ],
         "yaxis": "y"
        }
       ],
       "layout": {
        "barmode": "relative",
        "legend": {
         "title": {
          "text": "CD_SEXO"
         },
         "tracegroupgap": 0
        },
        "margin": {
         "t": 60
        },
        "template": {
         "data": {
          "bar": [
           {
            "error_x": {
             "color": "#2a3f5f"
            },
            "error_y": {
             "color": "#2a3f5f"
            },
            "marker": {
             "line": {
              "color": "#E5ECF6",
              "width": 0.5
             },
             "pattern": {
              "fillmode": "overlay",
              "size": 10,
              "solidity": 0.2
             }
            },
            "type": "bar"
           }
          ],
          "barpolar": [
           {
            "marker": {
             "line": {
              "color": "#E5ECF6",
              "width": 0.5
             },
             "pattern": {
              "fillmode": "overlay",
              "size": 10,
              "solidity": 0.2
             }
            },
            "type": "barpolar"
           }
          ],
          "carpet": [
           {
            "aaxis": {
             "endlinecolor": "#2a3f5f",
             "gridcolor": "white",
             "linecolor": "white",
             "minorgridcolor": "white",
             "startlinecolor": "#2a3f5f"
            },
            "baxis": {
             "endlinecolor": "#2a3f5f",
             "gridcolor": "white",
             "linecolor": "white",
             "minorgridcolor": "white",
             "startlinecolor": "#2a3f5f"
            },
            "type": "carpet"
           }
          ],
          "choropleth": [
           {
            "colorbar": {
             "outlinewidth": 0,
             "ticks": ""
            },
            "type": "choropleth"
           }
          ],
          "contour": [
           {
            "colorbar": {
             "outlinewidth": 0,
             "ticks": ""
            },
            "colorscale": [
             [
              0,
              "#0d0887"
             ],
             [
              0.1111111111111111,
              "#46039f"
             ],
             [
              0.2222222222222222,
              "#7201a8"
             ],
             [
              0.3333333333333333,
              "#9c179e"
             ],
             [
              0.4444444444444444,
              "#bd3786"
             ],
             [
              0.5555555555555556,
              "#d8576b"
             ],
             [
              0.6666666666666666,
              "#ed7953"
             ],
             [
              0.7777777777777778,
              "#fb9f3a"
             ],
             [
              0.8888888888888888,
              "#fdca26"
             ],
             [
              1,
              "#f0f921"
             ]
            ],
            "type": "contour"
           }
          ],
          "contourcarpet": [
           {
            "colorbar": {
             "outlinewidth": 0,
             "ticks": ""
            },
            "type": "contourcarpet"
           }
          ],
          "heatmap": [
           {
            "colorbar": {
             "outlinewidth": 0,
             "ticks": ""
            },
            "colorscale": [
             [
              0,
              "#0d0887"
             ],
             [
              0.1111111111111111,
              "#46039f"
             ],
             [
              0.2222222222222222,
              "#7201a8"
             ],
             [
              0.3333333333333333,
              "#9c179e"
             ],
             [
              0.4444444444444444,
              "#bd3786"
             ],
             [
              0.5555555555555556,
              "#d8576b"
             ],
             [
              0.6666666666666666,
              "#ed7953"
             ],
             [
              0.7777777777777778,
              "#fb9f3a"
             ],
             [
              0.8888888888888888,
              "#fdca26"
             ],
             [
              1,
              "#f0f921"
             ]
            ],
            "type": "heatmap"
           }
          ],
          "histogram": [
           {
            "marker": {
             "pattern": {
              "fillmode": "overlay",
              "size": 10,
              "solidity": 0.2
             }
            },
            "type": "histogram"
           }
          ],
          "histogram2d": [
           {
            "colorbar": {
             "outlinewidth": 0,
             "ticks": ""
            },
            "colorscale": [
             [
              0,
              "#0d0887"
             ],
             [
              0.1111111111111111,
              "#46039f"
             ],
             [
              0.2222222222222222,
              "#7201a8"
             ],
             [
              0.3333333333333333,
              "#9c179e"
             ],
             [
              0.4444444444444444,
              "#bd3786"
             ],
             [
              0.5555555555555556,
              "#d8576b"
             ],
             [
              0.6666666666666666,
              "#ed7953"
             ],
             [
              0.7777777777777778,
              "#fb9f3a"
             ],
             [
              0.8888888888888888,
              "#fdca26"
             ],
             [
              1,
              "#f0f921"
             ]
            ],
            "type": "histogram2d"
           }
          ],
          "histogram2dcontour": [
           {
            "colorbar": {
             "outlinewidth": 0,
             "ticks": ""
            },
            "colorscale": [
             [
              0,
              "#0d0887"
             ],
             [
              0.1111111111111111,
              "#46039f"
             ],
             [
              0.2222222222222222,
              "#7201a8"
             ],
             [
              0.3333333333333333,
              "#9c179e"
             ],
             [
              0.4444444444444444,
              "#bd3786"
             ],
             [
              0.5555555555555556,
              "#d8576b"
             ],
             [
              0.6666666666666666,
              "#ed7953"
             ],
             [
              0.7777777777777778,
              "#fb9f3a"
             ],
             [
              0.8888888888888888,
              "#fdca26"
             ],
             [
              1,
              "#f0f921"
             ]
            ],
            "type": "histogram2dcontour"
           }
          ],
          "mesh3d": [
           {
            "colorbar": {
             "outlinewidth": 0,
             "ticks": ""
            },
            "type": "mesh3d"
           }
          ],
          "parcoords": [
           {
            "line": {
             "colorbar": {
              "outlinewidth": 0,
              "ticks": ""
             }
            },
            "type": "parcoords"
           }
          ],
          "pie": [
           {
            "automargin": true,
            "type": "pie"
           }
          ],
          "scatter": [
           {
            "fillpattern": {
             "fillmode": "overlay",
             "size": 10,
             "solidity": 0.2
            },
            "type": "scatter"
           }
          ],
          "scatter3d": [
           {
            "line": {
             "colorbar": {
              "outlinewidth": 0,
              "ticks": ""
             }
            },
            "marker": {
             "colorbar": {
              "outlinewidth": 0,
              "ticks": ""
             }
            },
            "type": "scatter3d"
           }
          ],
          "scattercarpet": [
           {
            "marker": {
             "colorbar": {
              "outlinewidth": 0,
              "ticks": ""
             }
            },
            "type": "scattercarpet"
           }
          ],
          "scattergeo": [
           {
            "marker": {
             "colorbar": {
              "outlinewidth": 0,
              "ticks": ""
             }
            },
            "type": "scattergeo"
           }
          ],
          "scattergl": [
           {
            "marker": {
             "colorbar": {
              "outlinewidth": 0,
              "ticks": ""
             }
            },
            "type": "scattergl"
           }
          ],
          "scattermap": [
           {
            "marker": {
             "colorbar": {
              "outlinewidth": 0,
              "ticks": ""
             }
            },
            "type": "scattermap"
           }
          ],
          "scattermapbox": [
           {
            "marker": {
             "colorbar": {
              "outlinewidth": 0,
              "ticks": ""
             }
            },
            "type": "scattermapbox"
           }
          ],
          "scatterpolar": [
           {
            "marker": {
             "colorbar": {
              "outlinewidth": 0,
              "ticks": ""
             }
            },
            "type": "scatterpolar"
           }
          ],
          "scatterpolargl": [
           {
            "marker": {
             "colorbar": {
              "outlinewidth": 0,
              "ticks": ""
             }
            },
            "type": "scatterpolargl"
           }
          ],
          "scatterternary": [
           {
            "marker": {
             "colorbar": {
              "outlinewidth": 0,
              "ticks": ""
             }
            },
            "type": "scatterternary"
           }
          ],
          "surface": [
           {
            "colorbar": {
             "outlinewidth": 0,
             "ticks": ""
            },
            "colorscale": [
             [
              0,
              "#0d0887"
             ],
             [
              0.1111111111111111,
              "#46039f"
             ],
             [
              0.2222222222222222,
              "#7201a8"
             ],
             [
              0.3333333333333333,
              "#9c179e"
             ],
             [
              0.4444444444444444,
              "#bd3786"
             ],
             [
              0.5555555555555556,
              "#d8576b"
             ],
             [
              0.6666666666666666,
              "#ed7953"
             ],
             [
              0.7777777777777778,
              "#fb9f3a"
             ],
             [
              0.8888888888888888,
              "#fdca26"
             ],
             [
              1,
              "#f0f921"
             ]
            ],
            "type": "surface"
           }
          ],
          "table": [
           {
            "cells": {
             "fill": {
              "color": "#EBF0F8"
             },
             "line": {
              "color": "white"
             }
            },
            "header": {
             "fill": {
              "color": "#C8D4E3"
             },
             "line": {
              "color": "white"
             }
            },
            "type": "table"
           }
          ]
         },
         "layout": {
          "annotationdefaults": {
           "arrowcolor": "#2a3f5f",
           "arrowhead": 0,
           "arrowwidth": 1
          },
          "autotypenumbers": "strict",
          "coloraxis": {
           "colorbar": {
            "outlinewidth": 0,
            "ticks": ""
           }
          },
          "colorscale": {
           "diverging": [
            [
             0,
             "#8e0152"
            ],
            [
             0.1,
             "#c51b7d"
            ],
            [
             0.2,
             "#de77ae"
            ],
            [
             0.3,
             "#f1b6da"
            ],
            [
             0.4,
             "#fde0ef"
            ],
            [
             0.5,
             "#f7f7f7"
            ],
            [
             0.6,
             "#e6f5d0"
            ],
            [
             0.7,
             "#b8e186"
            ],
            [
             0.8,
             "#7fbc41"
            ],
            [
             0.9,
             "#4d9221"
            ],
            [
             1,
             "#276419"
            ]
           ],
           "sequential": [
            [
             0,
             "#0d0887"
            ],
            [
             0.1111111111111111,
             "#46039f"
            ],
            [
             0.2222222222222222,
             "#7201a8"
            ],
            [
             0.3333333333333333,
             "#9c179e"
            ],
            [
             0.4444444444444444,
             "#bd3786"
            ],
            [
             0.5555555555555556,
             "#d8576b"
            ],
            [
             0.6666666666666666,
             "#ed7953"
            ],
            [
             0.7777777777777778,
             "#fb9f3a"
            ],
            [
             0.8888888888888888,
             "#fdca26"
            ],
            [
             1,
             "#f0f921"
            ]
           ],
           "sequentialminus": [
            [
             0,
             "#0d0887"
            ],
            [
             0.1111111111111111,
             "#46039f"
            ],
            [
             0.2222222222222222,
             "#7201a8"
            ],
            [
             0.3333333333333333,
             "#9c179e"
            ],
            [
             0.4444444444444444,
             "#bd3786"
            ],
            [
             0.5555555555555556,
             "#d8576b"
            ],
            [
             0.6666666666666666,
             "#ed7953"
            ],
            [
             0.7777777777777778,
             "#fb9f3a"
            ],
            [
             0.8888888888888888,
             "#fdca26"
            ],
            [
             1,
             "#f0f921"
            ]
           ]
          },
          "colorway": [
           "#636efa",
           "#EF553B",
           "#00cc96",
           "#ab63fa",
           "#FFA15A",
           "#19d3f3",
           "#FF6692",
           "#B6E880",
           "#FF97FF",
           "#FECB52"
          ],
          "font": {
           "color": "#2a3f5f"
          },
          "geo": {
           "bgcolor": "white",
           "lakecolor": "white",
           "landcolor": "#E5ECF6",
           "showlakes": true,
           "showland": true,
           "subunitcolor": "white"
          },
          "hoverlabel": {
           "align": "left"
          },
          "hovermode": "closest",
          "mapbox": {
           "style": "light"
          },
          "paper_bgcolor": "white",
          "plot_bgcolor": "#E5ECF6",
          "polar": {
           "angularaxis": {
            "gridcolor": "white",
            "linecolor": "white",
            "ticks": ""
           },
           "bgcolor": "#E5ECF6",
           "radialaxis": {
            "gridcolor": "white",
            "linecolor": "white",
            "ticks": ""
           }
          },
          "scene": {
           "xaxis": {
            "backgroundcolor": "#E5ECF6",
            "gridcolor": "white",
            "gridwidth": 2,
            "linecolor": "white",
            "showbackground": true,
            "ticks": "",
            "zerolinecolor": "white"
           },
           "yaxis": {
            "backgroundcolor": "#E5ECF6",
            "gridcolor": "white",
            "gridwidth": 2,
            "linecolor": "white",
            "showbackground": true,
            "ticks": "",
            "zerolinecolor": "white"
           },
           "zaxis": {
            "backgroundcolor": "#E5ECF6",
            "gridcolor": "white",
            "gridwidth": 2,
            "linecolor": "white",
            "showbackground": true,
            "ticks": "",
            "zerolinecolor": "white"
           }
          },
          "shapedefaults": {
           "line": {
            "color": "#2a3f5f"
           }
          },
          "ternary": {
           "aaxis": {
            "gridcolor": "white",
            "linecolor": "white",
            "ticks": ""
           },
           "baxis": {
            "gridcolor": "white",
            "linecolor": "white",
            "ticks": ""
           },
           "bgcolor": "#E5ECF6",
           "caxis": {
            "gridcolor": "white",
            "linecolor": "white",
            "ticks": ""
           }
          },
          "title": {
           "x": 0.05
          },
          "xaxis": {
           "automargin": true,
           "gridcolor": "white",
           "linecolor": "white",
           "ticks": "",
           "title": {
            "standoff": 15
           },
           "zerolinecolor": "white",
           "zerolinewidth": 2
          },
          "yaxis": {
           "automargin": true,
           "gridcolor": "white",
           "linecolor": "white",
           "ticks": "",
           "title": {
            "standoff": 15
           },
           "zerolinecolor": "white",
           "zerolinewidth": 2
          }
         }
        },
        "xaxis": {
         "anchor": "y",
         "domain": [
          0,
          1
         ],
         "title": {
          "text": "PORCENTAGEM"
         }
        },
        "yaxis": {
         "anchor": "x",
         "domain": [
          0,
          1
         ],
         "title": {
          "text": "DC_CARGO_ATUAL"
         }
        }
       }
      }
     },
     "metadata": {},
     "output_type": "display_data"
    }
   ],
   "source": [
    "fig = px.bar(df_genero_filtrada_agrupada, y='DC_CARGO_ATUAL', x='PORCENTAGEM', color='CD_SEXO', orientation='h',\n",
    "             color_discrete_map={'F': '#8B0000', 'M': '#3CB371'})\n",
    "\n",
    "\n",
    "\n",
    "fig.show()"
   ]
  },
  {
   "cell_type": "markdown",
   "metadata": {},
   "source": [
    "#### Observamos que as pessoas no gênero masculino em cargo de liderança assumem apenas 2 cargos: assistente de diretor de escola (83% dos homens) e coordenador pedagógico (16,6%).\n",
    "\n",
    "#### Os cargos de direção de escola são ocupados apenas por mulheres. Também existe uma proporção maior de mulheres no cargo de coordenação (22,6%)."
   ]
  },
  {
   "cell_type": "markdown",
   "metadata": {},
   "source": []
  }
 ],
 "metadata": {
  "kernelspec": {
   "display_name": "Python 3",
   "language": "python",
   "name": "python3"
  },
  "language_info": {
   "codemirror_mode": {
    "name": "ipython",
    "version": 3
   },
   "file_extension": ".py",
   "mimetype": "text/x-python",
   "name": "python",
   "nbconvert_exporter": "python",
   "pygments_lexer": "ipython3",
   "version": "3.8.10"
  }
 },
 "nbformat": 4,
 "nbformat_minor": 2
}
